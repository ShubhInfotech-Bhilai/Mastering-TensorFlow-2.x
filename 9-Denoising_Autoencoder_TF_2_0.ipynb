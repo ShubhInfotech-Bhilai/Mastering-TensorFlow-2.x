{
  "nbformat": 4,
  "nbformat_minor": 0,
  "metadata": {
    "colab": {
      "name": "Denoising Autoencoder TF 2.0",
      "version": "0.3.2",
      "provenance": [],
      "collapsed_sections": []
    },
    "kernelspec": {
      "name": "python3",
      "display_name": "Python 3"
    }
  },
  "cells": [
    {
      "metadata": {
        "id": "UMonpaf_ueU8",
        "colab_type": "code",
        "colab": {
          "base_uri": "https://localhost:8080/",
          "height": 105
        },
        "outputId": "a2cbc94d-65af-473d-df85-64ab6d78890f"
      },
      "cell_type": "code",
      "source": [
        "! pip install -q tensorflow-gpu==2.0.0.alpha0\n",
        "import tensorflow as tf\n",
        "print(tf.__version__)"
      ],
      "execution_count": 1,
      "outputs": [
        {
          "output_type": "stream",
          "text": [
            "\u001b[K    100% |████████████████████████████████| 332.1MB 67kB/s \n",
            "\u001b[K    100% |████████████████████████████████| 3.0MB 8.0MB/s \n",
            "\u001b[K    100% |████████████████████████████████| 61kB 23.3MB/s \n",
            "\u001b[K    100% |████████████████████████████████| 419kB 12.4MB/s \n",
            "\u001b[?25h2.0.0-alpha0\n"
          ],
          "name": "stdout"
        }
      ]
    },
    {
      "metadata": {
        "id": "jHX4-YlJurp3",
        "colab_type": "code",
        "colab": {}
      },
      "cell_type": "code",
      "source": [
        "from tensorflow.keras.layers import Input, Dense, Conv2D, MaxPooling2D, UpSampling2D\n",
        "from tensorflow.keras.models import Model\n",
        "from tensorflow.keras.datasets import fashion_mnist\n",
        "from tensorflow.keras.callbacks import TensorBoard\n",
        "import numpy as np\n",
        "import matplotlib.pyplot as plt"
      ],
      "execution_count": 0,
      "outputs": []
    },
    {
      "metadata": {
        "id": "4-GcjxNj0fnI",
        "colab_type": "code",
        "colab": {}
      },
      "cell_type": "code",
      "source": [
        "(x_train, _), (x_test, _) = fashion_mnist.load_data()\n",
        "\n",
        "x_train = x_train.astype('float32') / 255.\n",
        "x_test = x_test.astype('float32') / 255."
      ],
      "execution_count": 0,
      "outputs": []
    },
    {
      "metadata": {
        "id": "YpWwXryW1wpy",
        "colab_type": "code",
        "colab": {
          "base_uri": "https://localhost:8080/",
          "height": 34
        },
        "outputId": "e51ec1d6-1d0c-4dfd-9540-1f2e163c9210"
      },
      "cell_type": "code",
      "source": [
        "print(x_train.shape)"
      ],
      "execution_count": 10,
      "outputs": [
        {
          "output_type": "stream",
          "text": [
            "(60000, 28, 28)\n"
          ],
          "name": "stdout"
        }
      ]
    },
    {
      "metadata": {
        "id": "dNVJIXop0_MK",
        "colab_type": "code",
        "colab": {}
      },
      "cell_type": "code",
      "source": [
        "x_train = np.reshape(x_train, (len(x_train), 28,28,1))\n",
        "x_test = np.reshape(x_test, (len(x_test), 28,28,1))"
      ],
      "execution_count": 0,
      "outputs": []
    },
    {
      "metadata": {
        "id": "4A2CRua6RwB-",
        "colab_type": "code",
        "colab": {
          "base_uri": "https://localhost:8080/",
          "height": 52
        },
        "outputId": "88ddb91a-a580-4f7d-cb7d-a4ce25799d98"
      },
      "cell_type": "code",
      "source": [
        ""
      ],
      "execution_count": 19,
      "outputs": [
        {
          "output_type": "stream",
          "text": [
            "Downloading data from https://storage.googleapis.com/tensorflow/tf-keras-datasets/mnist.npz\n",
            "11493376/11490434 [==============================] - 0s 0us/step\n"
          ],
          "name": "stdout"
        }
      ]
    },
    {
      "metadata": {
        "id": "wSLC6qn2RPiJ",
        "colab_type": "code",
        "colab": {
          "base_uri": "https://localhost:8080/",
          "height": 34
        },
        "outputId": "d4795354-a09a-4598-a0d4-4a3589395d01"
      },
      "cell_type": "code",
      "source": [
        "X_train = np.reshape(X_train, (X_train.shape[0], X_train.shape[1] * X_train.shape[2]))\n",
        "X_train.shape"
      ],
      "execution_count": 24,
      "outputs": [
        {
          "output_type": "execute_result",
          "data": {
            "text/plain": [
              "(60000, 784)"
            ]
          },
          "metadata": {
            "tags": []
          },
          "execution_count": 24
        }
      ]
    },
    {
      "metadata": {
        "id": "QzKgekX01WLk",
        "colab_type": "code",
        "colab": {}
      },
      "cell_type": "code",
      "source": [
        "import numpy as np\n",
        "import tensorflow as tf\n",
        "\n",
        "\n",
        "class Autoencoder(tf.keras.Model):\n",
        "\n",
        "    def __init__(self, n_layers, transfer_function=tf.nn.softplus, optimizer=tf.keras.optimizers.Adam()):\n",
        "        super(Autoencoder, self).__init__()\n",
        "        self.n_layers = n_layers\n",
        "        self.transfer = transfer_function\n",
        "\n",
        "        network_weights = self._initialize_weights()\n",
        "        self.network_weights = network_weights\n",
        "\n",
        "        # model\n",
        "        self.x = tf.Variable(tf.zeros((128, self.n_layers[0]), dtype=tf.float32))\n",
        "        self.hidden_encode = []\n",
        "        h = self.x\n",
        "        for layer in range(len(self.n_layers)-1):\n",
        "            h = self.transfer(\n",
        "                tf.add(tf.matmul(h, self.network_weights['encode'][layer]['w']),\n",
        "                       self.network_weights['encode'][layer]['b']))\n",
        "            self.hidden_encode.append(h)\n",
        "\n",
        "        self.hidden_recon = []\n",
        "        for layer in range(len(self.n_layers)-1):\n",
        "            h = self.transfer(\n",
        "                tf.add(tf.matmul(h, self.network_weights['recon'][layer]['w']),\n",
        "                       self.network_weights['recon'][layer]['b']))\n",
        "            self.hidden_recon.append(h)\n",
        "        self.reconstruction = self.hidden_recon[-1]\n",
        "\n",
        "        # cost\n",
        "        self.cost = 0.5 * tf.reduce_sum(tf.pow(tf.subtract(self.reconstruction, self.x), 2.0))\n",
        "        self.optimizer = optimizer.minimize(self.cost)\n",
        "        \n",
        "    \n",
        "    def _initialize_weights(self):\n",
        "        all_weights = dict()\n",
        "        initializer = tf.keras.initializers.glorot_uniform()\n",
        "        # Encoding network weights\n",
        "        encoder_weights = []\n",
        "        for layer in range(len(self.n_layers)-1):\n",
        "            w = tf.Variable(\n",
        "                initializer((self.n_layers[layer], self.n_layers[layer + 1]),\n",
        "                            dtype=tf.float32))\n",
        "            b = tf.Variable(\n",
        "                tf.zeros([self.n_layers[layer + 1]], dtype=tf.float32))\n",
        "            encoder_weights.append({'w': w, 'b': b})\n",
        "        # Recon network weights\n",
        "        recon_weights = []\n",
        "        for layer in range(len(self.n_layers)-1, 0, -1):\n",
        "            w = tf.Variable(\n",
        "                initializer((self.n_layers[layer], self.n_layers[layer - 1]),\n",
        "                            dtype=tf.float32))\n",
        "            b = tf.Variable(\n",
        "                tf.zeros([self.n_layers[layer - 1]], dtype=tf.float32))\n",
        "            recon_weights.append({'w': w, 'b': b})\n",
        "        all_weights['encode'] = encoder_weights\n",
        "        all_weights['recon'] = recon_weights\n",
        "        return all_weights\n",
        "    \n",
        "    def partial_fit(self, X):\n",
        "        cost, opt = self.sess.run((self.cost, self.optimizer), feed_dict={self.x: X})\n",
        "        return cost\n",
        "\n",
        "    def calc_total_cost(self, X):\n",
        "        return self.sess.run(self.cost, feed_dict={self.x: X})\n",
        "\n",
        "    def transform(self, X):\n",
        "        return self.sess.run(self.hidden_encode[-1], feed_dict={self.x: X})\n",
        "\n",
        "    def generate(self, hidden=None):\n",
        "        if hidden is None:\n",
        "            hidden = np.random.normal(size=self.network_weights['encode'][-1]['b'])\n",
        "        return self.sess.run(self.reconstruction, feed_dict={self.hidden_encode[-1]: hidden})\n",
        "\n",
        "    def reconstruct(self, X):\n",
        "        return self.sess.run(self.reconstruction, feed_dict={self.x: X})\n",
        "\n",
        "    def getWeights(self):\n",
        "        raise NotImplementedError\n",
        "        return self.sess.run(self.network_weights)\n",
        "\n",
        "    def getBiases(self):\n",
        "        raise NotImplementedError\n",
        "        return self.sess.run(self.network_weights)\n"
      ],
      "execution_count": 0,
      "outputs": []
    },
    {
      "metadata": {
        "id": "nBYFo4BdH8rB",
        "colab_type": "code",
        "colab": {}
      },
      "cell_type": "code",
      "source": [
        "from __future__ import absolute_import\n",
        "from __future__ import division\n",
        "from __future__ import print_function\n",
        "\n",
        "import numpy as np\n",
        "import sklearn.preprocessing as prep\n",
        "import tensorflow as tf\n",
        "\n",
        "# Remove this comment from autoencoder_models.Autoencoder import Autoencoder\n",
        "\n",
        "mnist = tf.keras.datasets.mnist\n",
        "\n",
        "\n",
        "def standard_scale(X_train, X_test):\n",
        "    preprocessor = prep.StandardScaler().fit(X_train)\n",
        "    X_train = preprocessor.transform(X_train)\n",
        "    X_test = preprocessor.transform(X_test)\n",
        "    return X_train, X_test\n",
        "\n",
        "\n",
        "def get_random_block_from_data(data, batch_size):\n",
        "    start_index = np.random.randint(0, len(data) - batch_size)\n",
        "    return data[start_index:(start_index + batch_size)]\n",
        "\n",
        "\n",
        "(X_train, _), (X_test, _) = mnist.load_data()\n",
        "X_train = tf.cast(np.reshape(X_train, (X_train.shape[0], X_train.shape[1] * X_train.shape[2])), tf.float64)\n",
        "X_test = tf.cast(np.reshape(X_test, (X_test.shape[0], X_test.shape[1] * X_test.shape[2])), tf.float64)\n",
        "\n",
        "X_train, X_test = standard_scale(X_train, X_test)\n",
        "\n",
        "n_samples = int(len(X_train) + len(X_test))\n",
        "training_epochs = 20\n",
        "batch_size = 128\n",
        "display_step = 1\n",
        "\n"
      ],
      "execution_count": 0,
      "outputs": []
    },
    {
      "metadata": {
        "id": "GWpYXOSFKAcp",
        "colab_type": "code",
        "colab": {
          "base_uri": "https://localhost:8080/",
          "height": 363
        },
        "outputId": "09261d16-0fde-4571-e293-a9451f1c3465"
      },
      "cell_type": "code",
      "source": [
        "autoencoder = Autoencoder(n_layers=[784, 200],\n",
        "                          transfer_function = tf.nn.softplus,\n",
        "                          optimizer = tf.keras.optimizers.Adam(lr = 0.001))\n",
        "\n",
        "for epoch in range(training_epochs):\n",
        "    avg_cost = 0.\n",
        "    total_batch = int(n_samples / batch_size)\n",
        "    # Loop over all batches\n",
        "    for i in range(total_batch):\n",
        "        batch_xs = get_random_block_from_data(X_train, batch_size)\n",
        "\n",
        "        # Fit training using batch data\n",
        "        cost = autoencoder.partial_fit(batch_xs)\n",
        "        # Compute average loss\n",
        "        avg_cost += cost / n_samples * batch_size\n",
        "\n",
        "    # Display logs per epoch step\n",
        "    if epoch % display_step == 0:\n",
        "        print(\"Epoch:\", '%d,' % (epoch + 1),\n",
        "              \"Cost:\", \"{:.9f}\".format(avg_cost))\n",
        "\n",
        "print(\"Total cost: \" + str(autoencoder.calc_total_cost(X_test)))"
      ],
      "execution_count": 45,
      "outputs": [
        {
          "output_type": "error",
          "ename": "TypeError",
          "evalue": "ignored",
          "traceback": [
            "\u001b[0;31m---------------------------------------------------------------------------\u001b[0m",
            "\u001b[0;31mTypeError\u001b[0m                                 Traceback (most recent call last)",
            "\u001b[0;32m<ipython-input-45-b9215250af8f>\u001b[0m in \u001b[0;36m<module>\u001b[0;34m()\u001b[0m\n\u001b[1;32m      1\u001b[0m autoencoder = Autoencoder(n_layers=[784, 200],\n\u001b[1;32m      2\u001b[0m                           \u001b[0mtransfer_function\u001b[0m \u001b[0;34m=\u001b[0m \u001b[0mtf\u001b[0m\u001b[0;34m.\u001b[0m\u001b[0mnn\u001b[0m\u001b[0;34m.\u001b[0m\u001b[0msoftplus\u001b[0m\u001b[0;34m,\u001b[0m\u001b[0;34m\u001b[0m\u001b[0;34m\u001b[0m\u001b[0m\n\u001b[0;32m----> 3\u001b[0;31m                           optimizer = tf.keras.optimizers.Adam(lr = 0.001))\n\u001b[0m\u001b[1;32m      4\u001b[0m \u001b[0;34m\u001b[0m\u001b[0m\n\u001b[1;32m      5\u001b[0m \u001b[0;32mfor\u001b[0m \u001b[0mepoch\u001b[0m \u001b[0;32min\u001b[0m \u001b[0mrange\u001b[0m\u001b[0;34m(\u001b[0m\u001b[0mtraining_epochs\u001b[0m\u001b[0;34m)\u001b[0m\u001b[0;34m:\u001b[0m\u001b[0;34m\u001b[0m\u001b[0;34m\u001b[0m\u001b[0m\n",
            "\u001b[0;32m<ipython-input-44-7372be9a8b85>\u001b[0m in \u001b[0;36m__init__\u001b[0;34m(self, n_layers, transfer_function, optimizer)\u001b[0m\n\u001b[1;32m     33\u001b[0m         \u001b[0;31m# cost\u001b[0m\u001b[0;34m\u001b[0m\u001b[0;34m\u001b[0m\u001b[0;34m\u001b[0m\u001b[0m\n\u001b[1;32m     34\u001b[0m         \u001b[0mself\u001b[0m\u001b[0;34m.\u001b[0m\u001b[0mcost\u001b[0m \u001b[0;34m=\u001b[0m \u001b[0;36m0.5\u001b[0m \u001b[0;34m*\u001b[0m \u001b[0mtf\u001b[0m\u001b[0;34m.\u001b[0m\u001b[0mreduce_sum\u001b[0m\u001b[0;34m(\u001b[0m\u001b[0mtf\u001b[0m\u001b[0;34m.\u001b[0m\u001b[0mpow\u001b[0m\u001b[0;34m(\u001b[0m\u001b[0mtf\u001b[0m\u001b[0;34m.\u001b[0m\u001b[0msubtract\u001b[0m\u001b[0;34m(\u001b[0m\u001b[0mself\u001b[0m\u001b[0;34m.\u001b[0m\u001b[0mreconstruction\u001b[0m\u001b[0;34m,\u001b[0m \u001b[0mself\u001b[0m\u001b[0;34m.\u001b[0m\u001b[0mx\u001b[0m\u001b[0;34m)\u001b[0m\u001b[0;34m,\u001b[0m \u001b[0;36m2.0\u001b[0m\u001b[0;34m)\u001b[0m\u001b[0;34m)\u001b[0m\u001b[0;34m\u001b[0m\u001b[0;34m\u001b[0m\u001b[0m\n\u001b[0;32m---> 35\u001b[0;31m         \u001b[0mself\u001b[0m\u001b[0;34m.\u001b[0m\u001b[0moptimizer\u001b[0m \u001b[0;34m=\u001b[0m \u001b[0moptimizer\u001b[0m\u001b[0;34m.\u001b[0m\u001b[0mminimize\u001b[0m\u001b[0;34m(\u001b[0m\u001b[0mself\u001b[0m\u001b[0;34m.\u001b[0m\u001b[0mcost\u001b[0m\u001b[0;34m)\u001b[0m\u001b[0;34m\u001b[0m\u001b[0;34m\u001b[0m\u001b[0m\n\u001b[0m\u001b[1;32m     36\u001b[0m \u001b[0;34m\u001b[0m\u001b[0m\n\u001b[1;32m     37\u001b[0m \u001b[0;34m\u001b[0m\u001b[0m\n",
            "\u001b[0;31mTypeError\u001b[0m: minimize() missing 1 required positional argument: 'var_list'"
          ]
        }
      ]
    },
    {
      "metadata": {
        "id": "mU09chjOZCsZ",
        "colab_type": "code",
        "colab": {}
      },
      "cell_type": "code",
      "source": [
        ""
      ],
      "execution_count": 0,
      "outputs": []
    }
  ]
}