{
  "nbformat": 4,
  "nbformat_minor": 0,
  "metadata": {
    "colab": {
      "name": "Denoising Autoencoder TF 2.0",
      "version": "0.3.2",
      "provenance": [],
      "collapsed_sections": []
    },
    "kernelspec": {
      "name": "python3",
      "display_name": "Python 3"
    }
  },
  "cells": [
    {
      "metadata": {
        "id": "UMonpaf_ueU8",
        "colab_type": "code",
        "colab": {
          "base_uri": "https://localhost:8080/",
          "height": 105
        },
        "outputId": "a2cbc94d-65af-473d-df85-64ab6d78890f"
      },
      "cell_type": "code",
      "source": [
        "! pip install -q tensorflow-gpu==2.0.0.alpha0\n",
        "import tensorflow as tf\n",
        "print(tf.__version__)"
      ],
      "execution_count": 1,
      "outputs": [
        {
          "output_type": "stream",
          "text": [
            "\u001b[K    100% |████████████████████████████████| 332.1MB 67kB/s \n",
            "\u001b[K    100% |████████████████████████████████| 3.0MB 8.0MB/s \n",
            "\u001b[K    100% |████████████████████████████████| 61kB 23.3MB/s \n",
            "\u001b[K    100% |████████████████████████████████| 419kB 12.4MB/s \n",
            "\u001b[?25h2.0.0-alpha0\n"
          ],
          "name": "stdout"
        }
      ]
    },
    {
      "metadata": {
        "id": "jHX4-YlJurp3",
        "colab_type": "code",
        "colab": {}
      },
      "cell_type": "code",
      "source": [
        "from tensorflow.keras.layers import Input, Dense, Conv2D, MaxPooling2D, UpSampling2D\n",
        "from tensorflow.keras.models import Model\n",
        "from tensorflow.keras.datasets import fashion_mnist\n",
        "from tensorflow.keras.callbacks import TensorBoard\n",
        "import numpy as np\n",
        "import matplotlib.pyplot as plt"
      ],
      "execution_count": 0,
      "outputs": []
    },
    {
      "metadata": {
        "id": "4-GcjxNj0fnI",
        "colab_type": "code",
        "colab": {}
      },
      "cell_type": "code",
      "source": [
        "(x_train, _), (x_test, _) = fashion_mnist.load_data()\n",
        "\n",
        "x_train = x_train.astype('float32') / 255.\n",
        "x_test = x_test.astype('float32') / 255."
      ],
      "execution_count": 0,
      "outputs": []
    },
    {
      "metadata": {
        "id": "YpWwXryW1wpy",
        "colab_type": "code",
        "colab": {
          "base_uri": "https://localhost:8080/",
          "height": 34
        },
        "outputId": "e51ec1d6-1d0c-4dfd-9540-1f2e163c9210"
      },
      "cell_type": "code",
      "source": [
        "print(x_train.shape)"
      ],
      "execution_count": 10,
      "outputs": [
        {
          "output_type": "stream",
          "text": [
            "(60000, 28, 28)\n"
          ],
          "name": "stdout"
        }
      ]
    },
    {
      "metadata": {
        "id": "dNVJIXop0_MK",
        "colab_type": "code",
        "colab": {}
      },
      "cell_type": "code",
      "source": [
        "x_train = np.reshape(x_train, (len(x_train), 28,28,1))\n",
        "x_test = np.reshape(x_test, (len(x_test), 28,28,1))"
      ],
      "execution_count": 0,
      "outputs": []
    },
    {
      "metadata": {
        "id": "wSLC6qn2RPiJ",
        "colab_type": "code",
        "colab": {}
      },
      "cell_type": "code",
      "source": [
        ""
      ],
      "execution_count": 0,
      "outputs": []
    },
    {
      "metadata": {
        "id": "QzKgekX01WLk",
        "colab_type": "code",
        "colab": {}
      },
      "cell_type": "code",
      "source": [
        "import numpy as np\n",
        "import tensorflow as tf\n",
        "\n",
        "\n",
        "class Autoencoder(tf.keras.Model):\n",
        "\n",
        "    def __init__(self, n_layers, transfer_function=tf.nn.softplus, optimizer=tf.keras.optimizers.Adam()):\n",
        "        super(Autoencoder, self).__init__()\n",
        "        self.n_layers = n_layers\n",
        "        self.transfer = transfer_function\n",
        "\n",
        "        network_weights = self._initialize_weights()\n",
        "        self.weights = network_weights\n",
        "\n",
        "        # model\n",
        "        self.x = tf.placeholder(tf.float32, [None, self.n_layers[0]])\n",
        "        self.hidden_encode = []\n",
        "        h = self.x\n",
        "        for layer in range(len(self.n_layers)-1):\n",
        "            h = self.transfer(\n",
        "                tf.add(tf.matmul(h, self.weights['encode'][layer]['w']),\n",
        "                       self.weights['encode'][layer]['b']))\n",
        "            self.hidden_encode.append(h)\n",
        "\n",
        "        self.hidden_recon = []\n",
        "        for layer in range(len(self.n_layers)-1):\n",
        "            h = self.transfer(\n",
        "                tf.add(tf.matmul(h, self.weights['recon'][layer]['w']),\n",
        "                       self.weights['recon'][layer]['b']))\n",
        "            self.hidden_recon.append(h)\n",
        "        self.reconstruction = self.hidden_recon[-1]\n",
        "\n",
        "        # cost\n",
        "        self.cost = 0.5 * tf.reduce_sum(tf.pow(tf.subtract(self.reconstruction, self.x), 2.0))\n",
        "        self.optimizer = optimizer.minimize(self.cost)\n",
        "        \n",
        "    \n",
        "    def _initialize_weights(self):\n",
        "        all_weights = dict()\n",
        "        initializer = tf.contrib.layers.xavier_initializer()\n",
        "        # Encoding network weights\n",
        "        encoder_weights = []\n",
        "        for layer in range(len(self.n_layers)-1):\n",
        "            w = tf.Variable(\n",
        "                initializer((self.n_layers[layer], self.n_layers[layer + 1]),\n",
        "                            dtype=tf.float32))\n",
        "            b = tf.Variable(\n",
        "                tf.zeros([self.n_layers[layer + 1]], dtype=tf.float32))\n",
        "            encoder_weights.append({'w': w, 'b': b})\n",
        "        # Recon network weights\n",
        "        recon_weights = []\n",
        "        for layer in range(len(self.n_layers)-1, 0, -1):\n",
        "            w = tf.Variable(\n",
        "                initializer((self.n_layers[layer], self.n_layers[layer - 1]),\n",
        "                            dtype=tf.float32))\n",
        "            b = tf.Variable(\n",
        "                tf.zeros([self.n_layers[layer - 1]], dtype=tf.float32))\n",
        "            recon_weights.append({'w': w, 'b': b})\n",
        "        all_weights['encode'] = encoder_weights\n",
        "        all_weights['recon'] = recon_weights\n",
        "        return all_weights\n",
        "    \n",
        "    @tf.function\n",
        "    def partial_fit(self, X):\n",
        "        self.x = X\n",
        "        cost, opt = self.cost, self.optimizer\n",
        "        return cost\n",
        "    \n",
        "    @tf.function\n",
        "    def calc_total_cost(self, X):\n",
        "        self.x = X\n",
        "        return self.cost\n",
        "    \n",
        "    @tf.function\n",
        "    def transform(self, X):\n",
        "        self.x = X\n",
        "        return self.sess.run(self.hidden_encode[-1], feed_dict={self.x: X})\n",
        "\n",
        "    def generate(self, hidden=None):\n",
        "        if hidden is None:\n",
        "            hidden = np.random.normal(size=self.weights['encode'][-1]['b'])\n",
        "        return self.sess.run(self.reconstruction, feed_dict={self.hidden_encode[-1]: hidden})\n",
        "\n",
        "    def reconstruct(self, X):\n",
        "        return self.sess.run(self.reconstruction, feed_dict={self.x: X})\n",
        "\n",
        "    def getWeights(self):\n",
        "        raise NotImplementedError\n",
        "        return self.sess.run(self.weights)\n",
        "\n",
        "    def getBiases(self):\n",
        "        raise NotImplementedError\n",
        "        return self.sess.run(self.weights)\n"
      ],
      "execution_count": 0,
      "outputs": []
    },
    {
      "metadata": {
        "id": "nBYFo4BdH8rB",
        "colab_type": "code",
        "colab": {
          "base_uri": "https://localhost:8080/",
          "height": 34
        },
        "outputId": "ee0c3410-6e10-49b8-cc52-ec987b762d52"
      },
      "cell_type": "code",
      "source": [
        ""
      ],
      "execution_count": 16,
      "outputs": [
        {
          "output_type": "execute_result",
          "data": {
            "text/plain": [
              "True"
            ]
          },
          "metadata": {
            "tags": []
          },
          "execution_count": 16
        }
      ]
    },
    {
      "metadata": {
        "id": "GWpYXOSFKAcp",
        "colab_type": "code",
        "colab": {}
      },
      "cell_type": "code",
      "source": [
        "https://www.tensorflow.org/alpha/guide/migration_guide"
      ],
      "execution_count": 0,
      "outputs": []
    }
  ]
}