{
  "nbformat": 4,
  "nbformat_minor": 0,
  "metadata": {
    "colab": {
      "name": "Denoising Autoencoder TF 2.0",
      "version": "0.3.2",
      "provenance": [],
      "collapsed_sections": []
    },
    "kernelspec": {
      "name": "python3",
      "display_name": "Python 3"
    },
    "accelerator": "GPU"
  },
  "cells": [
    {
      "metadata": {
        "id": "UMonpaf_ueU8",
        "colab_type": "code",
        "colab": {
          "base_uri": "https://localhost:8080/",
          "height": 105
        },
        "outputId": "5fc21a0c-6032-46cc-ad98-4a87e0541ce6"
      },
      "cell_type": "code",
      "source": [
        "! pip install -q tensorflow-gpu==2.0.0.alpha0\n",
        "import tensorflow as tf\n",
        "print(tf.__version__)"
      ],
      "execution_count": 1,
      "outputs": [
        {
          "output_type": "stream",
          "text": [
            "\u001b[K    100% |████████████████████████████████| 332.1MB 51kB/s \n",
            "\u001b[K    100% |████████████████████████████████| 3.0MB 8.0MB/s \n",
            "\u001b[K    100% |████████████████████████████████| 419kB 11.6MB/s \n",
            "\u001b[K    100% |████████████████████████████████| 61kB 25.3MB/s \n",
            "\u001b[?25h2.0.0-alpha0\n"
          ],
          "name": "stdout"
        }
      ]
    },
    {
      "metadata": {
        "id": "jHX4-YlJurp3",
        "colab_type": "code",
        "colab": {}
      },
      "cell_type": "code",
      "source": [
        "from tensorflow.keras.layers import Input, Dense, Conv2D, MaxPooling2D, UpSampling2D\n",
        "from tensorflow.keras.models import Model\n",
        "from tensorflow.keras.datasets import fashion_mnist\n",
        "from tensorflow.keras.callbacks import TensorBoard\n",
        "import numpy as np\n",
        "import matplotlib.pyplot as plt"
      ],
      "execution_count": 0,
      "outputs": []
    },
    {
      "metadata": {
        "id": "4-GcjxNj0fnI",
        "colab_type": "code",
        "colab": {}
      },
      "cell_type": "code",
      "source": [
        "(x_train, _), (x_test, _) = fashion_mnist.load_data()\n",
        "\n",
        "x_train = x_train.astype('float32') / 255.\n",
        "x_test = x_test.astype('float32') / 255."
      ],
      "execution_count": 0,
      "outputs": []
    },
    {
      "metadata": {
        "id": "YpWwXryW1wpy",
        "colab_type": "code",
        "colab": {
          "base_uri": "https://localhost:8080/",
          "height": 34
        },
        "outputId": "e51ec1d6-1d0c-4dfd-9540-1f2e163c9210"
      },
      "cell_type": "code",
      "source": [
        "print(x_train.shape)"
      ],
      "execution_count": 10,
      "outputs": [
        {
          "output_type": "stream",
          "text": [
            "(60000, 28, 28)\n"
          ],
          "name": "stdout"
        }
      ]
    },
    {
      "metadata": {
        "id": "dNVJIXop0_MK",
        "colab_type": "code",
        "colab": {}
      },
      "cell_type": "code",
      "source": [
        "x_train = np.reshape(x_train, (len(x_train), 28,28,1))\n",
        "x_test = np.reshape(x_test, (len(x_test), 28,28,1))"
      ],
      "execution_count": 0,
      "outputs": []
    },
    {
      "metadata": {
        "id": "4A2CRua6RwB-",
        "colab_type": "code",
        "colab": {
          "base_uri": "https://localhost:8080/",
          "height": 52
        },
        "outputId": "88ddb91a-a580-4f7d-cb7d-a4ce25799d98"
      },
      "cell_type": "code",
      "source": [
        ""
      ],
      "execution_count": 19,
      "outputs": [
        {
          "output_type": "stream",
          "text": [
            "Downloading data from https://storage.googleapis.com/tensorflow/tf-keras-datasets/mnist.npz\n",
            "11493376/11490434 [==============================] - 0s 0us/step\n"
          ],
          "name": "stdout"
        }
      ]
    },
    {
      "metadata": {
        "id": "wSLC6qn2RPiJ",
        "colab_type": "code",
        "colab": {
          "base_uri": "https://localhost:8080/",
          "height": 34
        },
        "outputId": "d4795354-a09a-4598-a0d4-4a3589395d01"
      },
      "cell_type": "code",
      "source": [
        "X_train = np.reshape(X_train, (X_train.shape[0], X_train.shape[1] * X_train.shape[2]))\n",
        "X_train.shape"
      ],
      "execution_count": 24,
      "outputs": [
        {
          "output_type": "execute_result",
          "data": {
            "text/plain": [
              "(60000, 784)"
            ]
          },
          "metadata": {
            "tags": []
          },
          "execution_count": 24
        }
      ]
    },
    {
      "metadata": {
        "id": "QzKgekX01WLk",
        "colab_type": "code",
        "colab": {}
      },
      "cell_type": "code",
      "source": [
        "class Encoder(tf.keras.layers.Layer):\n",
        "    '''Encodes a digit from the MNIST dataset'''\n",
        "    \n",
        "    def __init__(self,\n",
        "                n_dims,\n",
        "                name='encoder',\n",
        "                **kwargs):\n",
        "        super(Encoder,self).__init__(name=name, **kwargs)\n",
        "        self.n_dims = n_dims\n",
        "        self.n_layers = 1\n",
        "        self.encode_layer = layers.Dense(n_dims, activation='relu')\n",
        "        \n",
        "    @tf.function        \n",
        "    def call(self, inputs):\n",
        "        return self.encode_layer(inputs)\n",
        "        \n",
        "class Decoder(tf.keras.layers.Layer):\n",
        "    '''Decodes a digit from the MNIST dataset'''\n",
        "\n",
        "    def __init__(self,\n",
        "                n_dims,\n",
        "                name='decoder',\n",
        "                **kwargs):\n",
        "        super(Decoder,self).__init__(name=name, **kwargs)\n",
        "        self.n_dims = n_dims\n",
        "        self.n_layers = len(n_dims)\n",
        "        self.decode_middle = layers.Dense(n_dims[0], activation='relu')\n",
        "        self.recon_layer = layers.Dense(n_dims[1], activation='sigmoid')\n",
        "        \n",
        "    @tf.function        \n",
        "    def call(self, inputs):\n",
        "        x = self.decode_middle(inputs)\n",
        "        return self.recon_layer(x)\n",
        "        \n",
        "        \n",
        "    \n",
        "class Autoencoder(tf.keras.Model):\n",
        "    '''Vanilla Autoencoder for MNIST digits'''\n",
        "    \n",
        "    def __init__(self,\n",
        "                 n_dims=[200, 392, 784],\n",
        "                 name='autoencoder',\n",
        "                 **kwargs):\n",
        "        super(Autoencoder, self).__init__(name=name, **kwargs)\n",
        "        self.n_dims = n_dims\n",
        "        self.encoder = Encoder(n_dims[0])\n",
        "        self.decoder = Decoder([n_dims[1], n_dims[2]])\n",
        "        \n",
        "    @tf.function        \n",
        "    def call(self, inputs):\n",
        "        x = self.encoder(inputs)\n",
        "        return self.decoder(x)\n",
        "        "
      ],
      "execution_count": 0,
      "outputs": []
    },
    {
      "metadata": {
        "id": "nBYFo4BdH8rB",
        "colab_type": "code",
        "colab": {}
      },
      "cell_type": "code",
      "source": [
        "from __future__ import absolute_import\n",
        "from __future__ import division\n",
        "from __future__ import print_function\n",
        "\n",
        "import numpy as np\n",
        "import sklearn.preprocessing as prep\n",
        "import tensorflow as tf\n",
        "import tensorflow.keras.layers as layers\n",
        "\n",
        "# Remove this comment from autoencoder_models.Autoencoder import Autoencoder\n",
        "\n",
        "mnist = tf.keras.datasets.mnist\n",
        "\n",
        "\n",
        "def standard_scale(X_train, X_test):\n",
        "    preprocessor = prep.StandardScaler().fit(X_train)\n",
        "    X_train = preprocessor.transform(X_train)\n",
        "    X_test = preprocessor.transform(X_test)\n",
        "    return X_train, X_test\n",
        "\n",
        "\n",
        "def get_random_block_from_data(data, batch_size):\n",
        "    start_index = np.random.randint(0, len(data) - batch_size)\n",
        "    return data[start_index:(start_index + batch_size)]\n",
        "\n",
        "\n",
        "(X_train, _), (X_test, _) = mnist.load_data()\n",
        "X_train = tf.cast(np.reshape(X_train, (X_train.shape[0], X_train.shape[1] * X_train.shape[2])), tf.float64)\n",
        "X_test = tf.cast(np.reshape(X_test, (X_test.shape[0], X_test.shape[1] * X_test.shape[2])), tf.float64)\n",
        "\n",
        "X_train, X_test = standard_scale(X_train, X_test)\n",
        "\n",
        "train_data = tf.data.Dataset.from_tensor_slices(X_train).batch(128).shuffle(buffer_size=1024)\n",
        "test_data = tf.data.Dataset.from_tensor_slices(X_test).batch(128).shuffle(buffer_size=512)\n",
        "\n",
        "n_samples = int(len(X_train) + len(X_test))\n",
        "training_epochs = 20\n",
        "batch_size = 128\n",
        "display_step = 1\n",
        "\n",
        "optimizer = tf.optimizers.Adam(learning_rate=0.01)\n",
        "mse_loss = tf.keras.losses.MeanSquaredError()\n",
        "loss_metric = tf.keras.metrics.Mean()\n",
        "\n",
        "autoencoder = Autoencoder([200, 394, 784])"
      ],
      "execution_count": 0,
      "outputs": []
    },
    {
      "metadata": {
        "id": "x0z66lp0R1K5",
        "colab_type": "code",
        "colab": {
          "base_uri": "https://localhost:8080/",
          "height": 336
        },
        "outputId": "a85d3279-7a67-45e0-e301-b742f84d8044"
      },
      "cell_type": "code",
      "source": [
        "# Iterate over epochs.\n",
        "for epoch in range(10):\n",
        "    print(f'Epoch {epoch+1}')\n",
        "\n",
        "  # Iterate over the batches of the dataset.\n",
        "    for step, x_batch in enumerate(train_data):\n",
        "        with tf.GradientTape() as tape:\n",
        "          recon = autoencoder(x_batch)\n",
        "          loss = mse_loss(x_batch, recon)\n",
        "\n",
        "        grads = tape.gradient(loss, autoencoder.trainable_variables)\n",
        "        optimizer.apply_gradients(zip(grads, autoencoder.trainable_variables))\n",
        "\n",
        "        loss_metric(loss)\n",
        "\n",
        "        if step % 100 == 0:\n",
        "          print(f'Step {step}: mean loss = {loss_metric.result()}')"
      ],
      "execution_count": 84,
      "outputs": [
        {
          "output_type": "stream",
          "text": [
            "Epoch 1\n",
            "Step 0: mean loss = 1.4021320343017578\n",
            "Step 100: mean loss = 0.8105310201644897\n",
            "Step 200: mean loss = 0.7495337128639221\n",
            "Step 300: mean loss = 0.7320978045463562\n",
            "Step 400: mean loss = 0.7485438585281372\n",
            "Epoch 2\n",
            "Step 0: mean loss = 0.7548137903213501\n",
            "Step 100: mean loss = 0.7507814764976501\n",
            "Step 200: mean loss = 0.7402821779251099\n",
            "Step 300: mean loss = 0.7350123524665833\n",
            "Step 400: mean loss = 0.7428106069564819\n",
            "Epoch 3\n",
            "Step 0: mean loss = 0.7468051910400391\n",
            "Step 100: mean loss = 0.7459006309509277\n",
            "Step 200: mean loss = 0.7406624555587769\n",
            "Step 300: mean loss = 0.7377558350563049\n",
            "Step 400: mean loss = 0.742964506149292\n"
          ],
          "name": "stdout"
        }
      ]
    },
    {
      "metadata": {
        "id": "AyPqFm85OzmE",
        "colab_type": "code",
        "colab": {
          "base_uri": "https://localhost:8080/",
          "height": 132
        },
        "outputId": "0f1a315e-3633-4317-cddb-cdbccb3bbce9"
      },
      "cell_type": "code",
      "source": [
        ""
      ],
      "execution_count": 80,
      "outputs": [
        {
          "output_type": "error",
          "ename": "IndentationError",
          "evalue": "ignored",
          "traceback": [
            "\u001b[0;36m  File \u001b[0;32m\"<ipython-input-80-b1860c1e1cd2>\"\u001b[0;36m, line \u001b[0;32m5\u001b[0m\n\u001b[0;31m    for step, x_batch_train in enumerate(train_data):\u001b[0m\n\u001b[0m                                                     ^\u001b[0m\n\u001b[0;31mIndentationError\u001b[0m\u001b[0;31m:\u001b[0m unindent does not match any outer indentation level\n"
          ]
        }
      ]
    },
    {
      "metadata": {
        "id": "mU09chjOZCsZ",
        "colab_type": "code",
        "colab": {}
      },
      "cell_type": "code",
      "source": [
        ""
      ],
      "execution_count": 0,
      "outputs": []
    },
    {
      "metadata": {
        "id": "gY8UJiT-QtTX",
        "colab_type": "code",
        "colab": {
          "base_uri": "https://localhost:8080/",
          "height": 212
        },
        "outputId": "791cc86b-add2-4108-b35f-f3f7f20120bf"
      },
      "cell_type": "code",
      "source": [
        "ae = Autoencoder([200, 392, 784])\n",
        "ae.compile(optimizer=tf.optimizers.Adam(0.1), loss=tf.keras.losses.MeanSquaredError(), metrics=['accuracy'])\n",
        "ae.fit(X_train, X_train, batch_size=64, epochs=5)"
      ],
      "execution_count": 67,
      "outputs": [
        {
          "output_type": "stream",
          "text": [
            "Epoch 1/5\n",
            "60000/60000 [==============================] - 4s 60us/sample - loss: 0.9148 - accuracy: 0.0000e+00\n",
            "Epoch 2/5\n",
            "60000/60000 [==============================] - 3s 58us/sample - loss: 0.9145 - accuracy: 0.0000e+00\n",
            "Epoch 3/5\n",
            "60000/60000 [==============================] - 3s 57us/sample - loss: 0.9145 - accuracy: 0.0000e+00\n",
            "Epoch 4/5\n",
            "60000/60000 [==============================] - 3s 57us/sample - loss: 0.9145 - accuracy: 0.0000e+00\n",
            "Epoch 5/5\n",
            "60000/60000 [==============================] - 3s 57us/sample - loss: 0.9145 - accuracy: 0.0000e+00\n"
          ],
          "name": "stdout"
        },
        {
          "output_type": "execute_result",
          "data": {
            "text/plain": [
              "<tensorflow.python.keras.callbacks.History at 0x7f24f43e7860>"
            ]
          },
          "metadata": {
            "tags": []
          },
          "execution_count": 67
        }
      ]
    },
    {
      "metadata": {
        "id": "1btgt_Tn3zAt",
        "colab_type": "code",
        "colab": {}
      },
      "cell_type": "code",
      "source": [
        "for epoch in range(training_epochs):\n",
        "    avg_cost = 0.\n",
        "    total_batch = int(n_samples / batch_size)\n",
        "    # Loop over all batches\n",
        "    for i in range(total_batch):\n",
        "        batch_xs = get_random_block_from_data(X_train, batch_size)\n",
        "\n",
        "        # Fit training using batch data\n",
        "        cost = autoencoder.partial_fit(batch_xs)\n",
        "        # Compute average loss\n",
        "        avg_cost += cost / n_samples * batch_size\n",
        "\n",
        "    # Display logs per epoch step\n",
        "    if epoch % display_step == 0:\n",
        "        print(\"Epoch:\", '%d,' % (epoch + 1),\n",
        "              \"Cost:\", \"{:.9f}\".format(avg_cost))\n",
        "\n",
        "#print(\"Total cost: \" + str(autoencoder.calc_total_cost(X_test)))"
      ],
      "execution_count": 0,
      "outputs": []
    },
    {
      "metadata": {
        "id": "0eHWjui78-RK",
        "colab_type": "code",
        "colab": {
          "base_uri": "https://localhost:8080/",
          "height": 603
        },
        "outputId": "5155a4c1-bdaa-4960-eee6-5ffebae20bbd"
      },
      "cell_type": "code",
      "source": [
        "class Sampling(layers.Layer):\n",
        "  \"\"\"Uses (z_mean, z_log_var) to sample z, the vector encoding a digit.\"\"\"\n",
        "\n",
        "  def call(self, inputs):\n",
        "    z_mean, z_log_var = inputs\n",
        "    batch = tf.shape(z_mean)[0]\n",
        "    dim = tf.shape(z_mean)[1]\n",
        "    epsilon = tf.keras.backend.random_normal(shape=(batch, dim))\n",
        "    return z_mean + tf.exp(0.5 * z_log_var) * epsilon\n",
        "\n",
        "\n",
        "class Encoder(layers.Layer):\n",
        "  \"\"\"Maps MNIST digits to a triplet (z_mean, z_log_var, z).\"\"\"\n",
        "\n",
        "  def __init__(self,\n",
        "               latent_dim=32,\n",
        "               intermediate_dim=64,\n",
        "               name='encoder',\n",
        "               **kwargs):\n",
        "    super(Encoder, self).__init__(name=name, **kwargs)\n",
        "    self.dense_proj = layers.Dense(intermediate_dim, activation='relu')\n",
        "    self.dense_mean = layers.Dense(latent_dim)\n",
        "    self.dense_log_var = layers.Dense(latent_dim)\n",
        "    self.sampling = Sampling()\n",
        "\n",
        "  def call(self, inputs):\n",
        "    x = self.dense_proj(inputs)\n",
        "    z_mean = self.dense_mean(x)\n",
        "    z_log_var = self.dense_log_var(x)\n",
        "    z = self.sampling((z_mean, z_log_var))\n",
        "    return z_mean, z_log_var, z\n",
        "\n",
        "\n",
        "class Decoder(layers.Layer):\n",
        "  \"\"\"Converts z, the encoded digit vector, back into a readable digit.\"\"\"\n",
        "\n",
        "  def __init__(self,\n",
        "               original_dim,\n",
        "               intermediate_dim=64,\n",
        "               name='decoder',\n",
        "               **kwargs):\n",
        "    super(Decoder, self).__init__(name=name, **kwargs)\n",
        "    self.dense_proj = layers.Dense(intermediate_dim, activation='relu')\n",
        "    self.dense_output = layers.Dense(original_dim, activation='sigmoid')\n",
        "\n",
        "  def call(self, inputs):\n",
        "    x = self.dense_proj(inputs)\n",
        "    return self.dense_output(x)\n",
        "\n",
        "\n",
        "class VariationalAutoEncoder(tf.keras.Model):\n",
        "  \"\"\"Combines the encoder and decoder into an end-to-end model for training.\"\"\"\n",
        "\n",
        "  def __init__(self,\n",
        "               original_dim,\n",
        "               intermediate_dim=64,\n",
        "               latent_dim=32,\n",
        "               name='autoencoder',\n",
        "               **kwargs):\n",
        "    super(VariationalAutoEncoder, self).__init__(name=name, **kwargs)\n",
        "    self.original_dim = original_dim\n",
        "    self.encoder = Encoder(latent_dim=latent_dim,\n",
        "                           intermediate_dim=intermediate_dim)\n",
        "    self.decoder = Decoder(original_dim, intermediate_dim=intermediate_dim)\n",
        "\n",
        "  def call(self, inputs):\n",
        "    z_mean, z_log_var, z = self.encoder(inputs)\n",
        "    reconstructed = self.decoder(z)\n",
        "    # Add KL divergence regularization loss.\n",
        "    kl_loss = - 0.5 * tf.reduce_mean(\n",
        "        z_log_var - tf.square(z_mean) - tf.exp(z_log_var) + 1)\n",
        "    self.add_loss(kl_loss)\n",
        "    return reconstructed\n",
        "\n",
        "\n",
        "original_dim = 784\n",
        "vae = VariationalAutoEncoder(original_dim, 64, 32)\n",
        "\n",
        "optimizer = tf.keras.optimizers.Adam(learning_rate=1e-3)\n",
        "mse_loss_fn = tf.keras.losses.MeanSquaredError()\n",
        "\n",
        "loss_metric = tf.keras.metrics.Mean()\n",
        "\n",
        "(x_train, _), _ = tf.keras.datasets.mnist.load_data()\n",
        "x_train = x_train.reshape(60000, 784).astype('float32') / 255\n",
        "\n",
        "vae = VariationalAutoEncoder(784, 64, 32)\n",
        "\n",
        "# Iterate over epochs.\n",
        "for epoch in range(3):\n",
        "  print('Start of epoch %d' % (epoch,))\n",
        "\n",
        "  # Iterate over the batches of the dataset.\n",
        "  for step, x_batch_train in enumerate(train_dataset):\n",
        "    with tf.GradientTape() as tape:\n",
        "      reconstructed = vae(x_batch_train)\n",
        "      # Compute reconstruction loss\n",
        "      loss = mse_loss_fn(x_batch_train, reconstructed)\n",
        "      loss += sum(vae.losses)  # Add KLD regularization loss\n",
        "\n",
        "    grads = tape.gradient(loss, vae.trainable_variables)\n",
        "    optimizer.apply_gradients(zip(grads, vae.trainable_variables))\n",
        "\n",
        "    loss_metric(loss)\n",
        "\n",
        "    if step % 100 == 0:\n",
        "      print('step %s: mean loss = %s' % (step, loss_metric.result()))\n",
        "# optimizer = tf.keras.optimizers.Adam(learning_rate=1e-3)\n",
        "\n",
        "# vae.compile(optimizer, loss=tf.keras.losses.MeanSquaredError())\n",
        "# vae.fit(x_train, x_train, epochs=20, batch_size=64)"
      ],
      "execution_count": 72,
      "outputs": [
        {
          "output_type": "stream",
          "text": [
            "Start of epoch 0\n",
            "step 0: mean loss = tf.Tensor(0.34475994, shape=(), dtype=float32)\n",
            "step 100: mean loss = tf.Tensor(0.12629451, shape=(), dtype=float32)\n",
            "step 200: mean loss = tf.Tensor(0.09963466, shape=(), dtype=float32)\n",
            "step 300: mean loss = tf.Tensor(0.08944599, shape=(), dtype=float32)\n",
            "step 400: mean loss = tf.Tensor(0.08441953, shape=(), dtype=float32)\n",
            "step 500: mean loss = tf.Tensor(0.081048794, shape=(), dtype=float32)\n",
            "step 600: mean loss = tf.Tensor(0.07887767, shape=(), dtype=float32)\n",
            "step 700: mean loss = tf.Tensor(0.07725732, shape=(), dtype=float32)\n",
            "step 800: mean loss = tf.Tensor(0.076082826, shape=(), dtype=float32)\n",
            "step 900: mean loss = tf.Tensor(0.07504082, shape=(), dtype=float32)\n",
            "Start of epoch 1\n",
            "step 0: mean loss = tf.Tensor(0.07474806, shape=(), dtype=float32)\n",
            "step 100: mean loss = tf.Tensor(0.0740752, shape=(), dtype=float32)\n",
            "step 200: mean loss = tf.Tensor(0.07357777, shape=(), dtype=float32)\n",
            "step 300: mean loss = tf.Tensor(0.07309231, shape=(), dtype=float32)\n",
            "step 400: mean loss = tf.Tensor(0.072754696, shape=(), dtype=float32)\n",
            "step 500: mean loss = tf.Tensor(0.072355025, shape=(), dtype=float32)\n",
            "step 600: mean loss = tf.Tensor(0.07205041, shape=(), dtype=float32)\n",
            "step 700: mean loss = tf.Tensor(0.071760364, shape=(), dtype=float32)\n",
            "step 800: mean loss = tf.Tensor(0.07152555, shape=(), dtype=float32)\n",
            "step 900: mean loss = tf.Tensor(0.07125344, shape=(), dtype=float32)\n",
            "Start of epoch 2\n",
            "step 0: mean loss = tf.Tensor(0.071180075, shape=(), dtype=float32)\n",
            "step 100: mean loss = tf.Tensor(0.07100051, shape=(), dtype=float32)\n",
            "step 200: mean loss = tf.Tensor(0.070869334, shape=(), dtype=float32)\n",
            "step 300: mean loss = tf.Tensor(0.07071217, shape=(), dtype=float32)\n",
            "step 400: mean loss = tf.Tensor(0.070614174, shape=(), dtype=float32)\n",
            "step 500: mean loss = tf.Tensor(0.0704596, shape=(), dtype=float32)\n",
            "step 600: mean loss = tf.Tensor(0.07034417, shape=(), dtype=float32)\n",
            "step 700: mean loss = tf.Tensor(0.070221536, shape=(), dtype=float32)\n",
            "step 800: mean loss = tf.Tensor(0.070122026, shape=(), dtype=float32)\n",
            "step 900: mean loss = tf.Tensor(0.06999011, shape=(), dtype=float32)\n"
          ],
          "name": "stdout"
        }
      ]
    },
    {
      "metadata": {
        "id": "gLFeRxZhTf5a",
        "colab_type": "code",
        "colab": {}
      },
      "cell_type": "code",
      "source": [
        ""
      ],
      "execution_count": 0,
      "outputs": []
    }
  ]
}