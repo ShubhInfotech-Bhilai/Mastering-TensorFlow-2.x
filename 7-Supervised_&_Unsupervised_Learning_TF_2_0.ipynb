{
  "nbformat": 4,
  "nbformat_minor": 0,
  "metadata": {
    "colab": {
      "name": "Supervised & Unsupervised Learning TF 2.0",
      "version": "0.3.2",
      "provenance": [],
      "collapsed_sections": []
    },
    "kernelspec": {
      "name": "python3",
      "display_name": "Python 3"
    }
  },
  "cells": [
    {
      "metadata": {
        "id": "WBT2BkKeA96G",
        "colab_type": "code",
        "outputId": "899367fe-2050-4cd6-ed81-234028742eda",
        "colab": {
          "base_uri": "https://localhost:8080/",
          "height": 105
        }
      },
      "cell_type": "code",
      "source": [
        "! pip install -q tensorflow==2.0.0.alpha0\n",
        "import tensorflow as tf\n",
        "print(tf.__version__)\n",
        "import numpy as np"
      ],
      "execution_count": 0,
      "outputs": [
        {
          "output_type": "stream",
          "text": [
            "\u001b[K    100% |████████████████████████████████| 79.9MB 377kB/s \n",
            "\u001b[K    100% |████████████████████████████████| 61kB 22.6MB/s \n",
            "\u001b[K    100% |████████████████████████████████| 419kB 17.0MB/s \n",
            "\u001b[K    100% |████████████████████████████████| 3.0MB 10.5MB/s \n",
            "\u001b[?25h2.0.0-alpha0\n"
          ],
          "name": "stdout"
        }
      ]
    },
    {
      "metadata": {
        "id": "6guerkZlBH7K",
        "colab_type": "code",
        "colab": {}
      },
      "cell_type": "code",
      "source": [
        "num_exp, training_steps, learning_rate, disp = 1000, 1000, 0.001, 100\n",
        "m, c = 6, -5"
      ],
      "execution_count": 0,
      "outputs": []
    },
    {
      "metadata": {
        "id": "jkvj6r0dCSEk",
        "colab_type": "code",
        "colab": {}
      },
      "cell_type": "code",
      "source": [
        "# This is the initialization of the variables\n",
        "def train_data(n, m, c):\n",
        "    x = tf.random.normal([n])\n",
        "    noise = tf.random.normal([n])\n",
        "    y = m*x + c + noise\n",
        "    return x, y\n",
        "\n",
        "# Forward propagation result\n",
        "def prediction(x, weight, bias):\n",
        "    return weight*x + bias"
      ],
      "execution_count": 0,
      "outputs": []
    },
    {
      "metadata": {
        "id": "c7KqunnB8H1G",
        "colab_type": "code",
        "colab": {}
      },
      "cell_type": "code",
      "source": [
        "# Loss function\n",
        "def loss(x, weight, bias, y):\n",
        "    error = prediction(x, weight, bias) - y\n",
        "    sq_error = tf.square(error)\n",
        "    return tf.reduce_mean(input_tensor=sq_error)"
      ],
      "execution_count": 0,
      "outputs": []
    },
    {
      "metadata": {
        "id": "id5_ZnCU8Hc2",
        "colab_type": "code",
        "colab": {}
      },
      "cell_type": "code",
      "source": [
        "# Calculates and returns the gradient using tf.GradientTape()\n",
        "def grad(x, weight, bias, y):\n",
        "    with tf.GradientTape() as tape:\n",
        "        loss_ = loss(x, weight, bias, y)\n",
        "    return tape.gradient(loss_, [weight, bias])"
      ],
      "execution_count": 0,
      "outputs": []
    },
    {
      "metadata": {
        "id": "Dj5mhqbH-DhK",
        "colab_type": "code",
        "outputId": "437f8981-cd04-4fe0-eb51-3f5ca68384fc",
        "colab": {
          "base_uri": "https://localhost:8080/",
          "height": 312
        }
      },
      "cell_type": "code",
      "source": [
        "# Visualize the initial results\n",
        "import matplotlib.pyplot as plt\n",
        "\n",
        "x, y = train_data(num_exp, m, c)\n",
        "plt.scatter(x, y)\n",
        "plt.xlabel('X values')\n",
        "plt.ylabel('Y values')\n",
        "plt.title('Initialization')"
      ],
      "execution_count": 0,
      "outputs": [
        {
          "output_type": "execute_result",
          "data": {
            "text/plain": [
              "Text(0.5, 1.0, 'Initialization')"
            ]
          },
          "metadata": {
            "tags": []
          },
          "execution_count": 6
        },
        {
          "output_type": "display_data",
          "data": {
            "image/png": "[encoded data removed]",
            "text/plain": [
              "<Figure size 432x288 with 1 Axes>"
            ]
          },
          "metadata": {
            "tags": []
          }
        }
      ]
    },
    {
      "metadata": {
        "id": "hRwEC5lQ_xc-",
        "colab_type": "code",
        "outputId": "c3aa77e2-c6d2-45b5-d0e4-2202f5ab4fe6",
        "colab": {
          "base_uri": "https://localhost:8080/",
          "height": 34
        }
      },
      "cell_type": "code",
      "source": [
        "W = tf.Variable(np.random.randn())\n",
        "B = tf.Variable(np.random.randn())\n",
        "\n",
        "print(f'Initial loss is {loss(x, W, B, y)}')"
      ],
      "execution_count": 0,
      "outputs": [
        {
          "output_type": "stream",
          "text": [
            "Initial loss is 92.91170501708984\n"
          ],
          "name": "stdout"
        }
      ]
    },
    {
      "metadata": {
        "id": "IpHj6Xc1_5-I",
        "colab_type": "code",
        "outputId": "2a5d5b22-acd9-4837-8f94-efabae65a1e4",
        "colab": {
          "base_uri": "https://localhost:8080/",
          "height": 194
        }
      },
      "cell_type": "code",
      "source": [
        "# Gradient descent\n",
        "\n",
        "for i in range(training_steps):\n",
        "    d_weight, d_bias = grad(x, W, B, y)\n",
        "    \n",
        "    dW = d_weight * learning_rate\n",
        "    dB = d_bias * learning_rate\n",
        "    \n",
        "    W.assign_sub(dW)\n",
        "    B.assign_sub(dB)\n",
        "    \n",
        "    if i == 0 or i % disp == 0:\n",
        "        print(f'Loss after iteration {i}: {loss(x, W, B, y)}')\n",
        "              "
      ],
      "execution_count": 0,
      "outputs": [
        {
          "output_type": "stream",
          "text": [
            "Loss after iteration 0: 92.54463195800781\n",
            "Loss after iteration 100: 62.356605529785156\n",
            "Loss after iteration 200: 42.12836837768555\n",
            "Loss after iteration 300: 28.573917388916016\n",
            "Loss after iteration 400: 19.49140167236328\n",
            "Loss after iteration 500: 13.405441284179688\n",
            "Loss after iteration 600: 9.327383041381836\n",
            "Loss after iteration 700: 6.594789028167725\n",
            "Loss after iteration 800: 4.763733386993408\n",
            "Loss after iteration 900: 3.5367891788482666\n"
          ],
          "name": "stdout"
        }
      ]
    },
    {
      "metadata": {
        "id": "O_K5uswjq3io",
        "colab_type": "code",
        "outputId": "f083f95f-9254-4d94-beda-65aded14df39",
        "colab": {
          "base_uri": "https://localhost:8080/",
          "height": 34
        }
      },
      "cell_type": "code",
      "source": [
        "print(f'W: {W.numpy()} and B: {B.numpy()}')"
      ],
      "execution_count": 0,
      "outputs": [
        {
          "output_type": "stream",
          "text": [
            "W: 4.951493740081787 and B: -4.273871898651123\n"
          ],
          "name": "stdout"
        }
      ]
    },
    {
      "metadata": {
        "id": "UVxHsML3sPsf",
        "colab_type": "code",
        "outputId": "3b330e7d-b1f3-44a1-e7f7-bce9c0bc3ae1",
        "colab": {
          "base_uri": "https://localhost:8080/",
          "height": 312
        }
      },
      "cell_type": "code",
      "source": [
        "x1 = np.linspace(-3, 4, 50)\n",
        "y1 = W.numpy()*x1 + B.numpy()\n",
        "\n",
        "plt.scatter(x1, y1)\n",
        "plt.xlabel('X value')\n",
        "plt.ylabel('Y value')\n",
        "plt.title('Final result')"
      ],
      "execution_count": 0,
      "outputs": [
        {
          "output_type": "execute_result",
          "data": {
            "text/plain": [
              "Text(0.5, 1.0, 'Final result')"
            ]
          },
          "metadata": {
            "tags": []
          },
          "execution_count": 16
        },
        {
          "output_type": "display_data",
          "data": {
            "image/png": "[encoded data removed]",
            "text/plain": [
              "<Figure size 432x288 with 1 Axes>"
            ]
          },
          "metadata": {
            "tags": []
          }
        }
      ]
    },
    {
      "metadata": {
        "id": "mFHohAVxIdpu",
        "colab_type": "text"
      },
      "cell_type": "markdown",
      "source": [
        "## Boston Housing Prices Prediction"
      ]
    },
    {
      "metadata": {
        "id": "qJj4p0khsxaG",
        "colab_type": "code",
        "outputId": "73f3c574-022b-4b0f-fcb8-575c7ca9b080",
        "colab": {
          "base_uri": "https://localhost:8080/",
          "height": 52
        }
      },
      "cell_type": "code",
      "source": [
        "! pip install -q tensorflow-gpu==2.0.0.alpha0\n",
        "import tensorflow as tf\n",
        "print(tf.__version__)\n",
        "from sklearn.preprocessing import scale\n",
        "from sklearn.datasets import load_boston"
      ],
      "execution_count": 0,
      "outputs": [
        {
          "output_type": "stream",
          "text": [
            "\u001b[K    100% |████████████████████████████████| 332.1MB 55kB/s \n",
            "\u001b[?25h2.0.0-alpha0\n"
          ],
          "name": "stdout"
        }
      ]
    },
    {
      "metadata": {
        "id": "UybWMTIkI2LK",
        "colab_type": "code",
        "colab": {}
      },
      "cell_type": "code",
      "source": [
        "train = 300\n",
        "val = 100\n",
        "\n",
        "features, prices = load_boston(True)\n",
        "\n",
        "test = len(features) - train - val\n",
        "\n",
        "train_features = tf.cast(scale(features[:train]), tf.float32)\n",
        "train_prices = prices[:train]\n",
        "\n",
        "val_features = tf.cast(scale(features[train:train+val]), tf.float32)\n",
        "val_prices = prices[train:train+val]\n",
        "\n",
        "test_features = tf.cast(scale(features[val+train:train+val+test]), tf.float32)\n",
        "test_prices = prices[val+train:train+val+test]"
      ],
      "execution_count": 0,
      "outputs": []
    },
    {
      "metadata": {
        "id": "Eh-oJISKKNjP",
        "colab_type": "code",
        "colab": {}
      },
      "cell_type": "code",
      "source": [
        "def loss(x, y, weights, bias):\n",
        "    error = tf.subtract(prediction(x, weights, bias), y)\n",
        "    sq_error = tf.square(error)\n",
        "    return tf.sqrt(tf.reduce_mean(input_tensor=sq_error))\n",
        "\n",
        "def prediction(x, weights, bias):\n",
        "    return tf.add(tf.multiply(tf.transpose(weights), x), bias)\n",
        "\n",
        "def grad(x, y, W, B):\n",
        "    with tf.GradientTape() as tape:\n",
        "        loss_ = loss(x, y, W, B)\n",
        "    return tape.gradient(loss_, [W, B])"
      ],
      "execution_count": 0,
      "outputs": []
    },
    {
      "metadata": {
        "id": "n-VeZwTRLzXH",
        "colab_type": "code",
        "colab": {}
      },
      "cell_type": "code",
      "source": [
        "W = tf.Variable(tf.random.normal([13, 1], mean=0.0, stddev=1.0, dtype=tf.float32))\n",
        "B = tf.Variable(tf.zeros(1), dtype=tf.float32)\n",
        "learning_rate = 0.01\n",
        "\n",
        "for i in range(5000):\n",
        "    d_weights , d_bias = grad(train_features, train_prices, W, B)\n",
        "    \n",
        "    dW = learning_rate * d_weights\n",
        "    dB = learning_rate * d_bias\n",
        "    \n",
        "    W.assign_sub(dW)\n",
        "    B.assign_sub(dB)\n",
        "    \n",
        "    if i == 0 or i % 100 == 0:\n",
        "        print(f'Iteration {i}: Loss = {loss(train_features, train_prices, W, B)}')"
      ],
      "execution_count": 0,
      "outputs": []
    },
    {
      "metadata": {
        "id": "VMKTzAc0NfLR",
        "colab_type": "code",
        "colab": {}
      },
      "cell_type": "code",
      "source": [
        "example_house = 69\n",
        "y = test_prices[example_house]\n",
        "y_pred = prediction(test_features,W.numpy(),B.numpy())[example_house]\n",
        "print(\"Actual median house value\",y,\" in $10K\")\n",
        "print(\"Predicted median house value \",y_pred.numpy(),\" in $10K\")"
      ],
      "execution_count": 0,
      "outputs": []
    }
  ]
}