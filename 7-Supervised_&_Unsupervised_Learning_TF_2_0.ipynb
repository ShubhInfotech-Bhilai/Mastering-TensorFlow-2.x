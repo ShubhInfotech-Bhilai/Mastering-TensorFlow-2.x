{
  "nbformat": 4,
  "nbformat_minor": 0,
  "metadata": {
    "colab": {
      "name": "Supervised & Unsupervised Learning TF 2.0",
      "version": "0.3.2",
      "provenance": []
    },
    "kernelspec": {
      "name": "python3",
      "display_name": "Python 3"
    }
  },
  "cells": [
    {
      "metadata": {
        "id": "WBT2BkKeA96G",
        "colab_type": "code",
        "colab": {
          "base_uri": "https://localhost:8080/",
          "height": 105
        },
        "outputId": "899367fe-2050-4cd6-ed81-234028742eda"
      },
      "cell_type": "code",
      "source": [
        "! pip install -q tensorflow==2.0.0.alpha0\n",
        "import tensorflow as tf\n",
        "print(tf.__version__)\n",
        "import numpy as np"
      ],
      "execution_count": 1,
      "outputs": [
        {
          "output_type": "stream",
          "text": [
            "\u001b[K    100% |████████████████████████████████| 79.9MB 377kB/s \n",
            "\u001b[K    100% |████████████████████████████████| 61kB 22.6MB/s \n",
            "\u001b[K    100% |████████████████████████████████| 419kB 17.0MB/s \n",
            "\u001b[K    100% |████████████████████████████████| 3.0MB 10.5MB/s \n",
            "\u001b[?25h2.0.0-alpha0\n"
          ],
          "name": "stdout"
        }
      ]
    },
    {
      "metadata": {
        "id": "6guerkZlBH7K",
        "colab_type": "code",
        "colab": {}
      },
      "cell_type": "code",
      "source": [
        "num_exp, training_steps, learning_rate, disp = 1000, 1000, 0.001, 100\n",
        "m, c = 6, -5"
      ],
      "execution_count": 0,
      "outputs": []
    },
    {
      "metadata": {
        "id": "jkvj6r0dCSEk",
        "colab_type": "code",
        "colab": {}
      },
      "cell_type": "code",
      "source": [
        "# This is the initialization of the variables\n",
        "def train_data(n, m, c):\n",
        "    x = tf.random.normal([n])\n",
        "    noise = tf.random.normal([n])\n",
        "    y = m*x + c + noise\n",
        "    return x, y\n",
        "\n",
        "# Forward propagation result\n",
        "def prediction(x, weight, bias):\n",
        "    return weight*x + bias"
      ],
      "execution_count": 0,
      "outputs": []
    },
    {
      "metadata": {
        "id": "c7KqunnB8H1G",
        "colab_type": "code",
        "colab": {}
      },
      "cell_type": "code",
      "source": [
        "# Loss function\n",
        "def loss(x, weight, bias, y):\n",
        "    error = prediction(x, weight, bias) - y\n",
        "    sq_error = tf.square(error)\n",
        "    return tf.reduce_mean(input_tensor=sq_error)"
      ],
      "execution_count": 0,
      "outputs": []
    },
    {
      "metadata": {
        "id": "id5_ZnCU8Hc2",
        "colab_type": "code",
        "colab": {}
      },
      "cell_type": "code",
      "source": [
        "# Calculates and returns the gradient using tf.GradientTape()\n",
        "def grad(x, weight, bias, y):\n",
        "    with tf.GradientTape() as tape:\n",
        "        loss_ = loss(x, weight, bias, y)\n",
        "    return tape.gradient(loss, [weight, bias])"
      ],
      "execution_count": 0,
      "outputs": []
    },
    {
      "metadata": {
        "id": "Dj5mhqbH-DhK",
        "colab_type": "code",
        "colab": {
          "base_uri": "https://localhost:8080/",
          "height": 312
        },
        "outputId": "437f8981-cd04-4fe0-eb51-3f5ca68384fc"
      },
      "cell_type": "code",
      "source": [
        "# Visualize the initial results\n",
        "import matplotlib.pyplot as plt\n",
        "\n",
        "x, y = train_data(num_exp, m, c)\n",
        "plt.scatter(x, y)\n",
        "plt.xlabel('X values')\n",
        "plt.ylabel('Y values')\n",
        "plt.title('Initialization')"
      ],
      "execution_count": 6,
      "outputs": [
        {
          "output_type": "execute_result",
          "data": {
            "text/plain": [
              "Text(0.5, 1.0, 'Initialization')"
            ]
          },
          "metadata": {
            "tags": []
          },
          "execution_count": 6
        },
        {
          "output_type": "display_data",
          "data": {
            "image/png": "[encoded data removed]",
            "text/plain": [
              "<Figure size 432x288 with 1 Axes>"
            ]
          },
          "metadata": {
            "tags": []
          }
        }
      ]
    },
    {
      "metadata": {
        "id": "hRwEC5lQ_xc-",
        "colab_type": "code",
        "colab": {
          "base_uri": "https://localhost:8080/",
          "height": 34
        },
        "outputId": "c3aa77e2-c6d2-45b5-d0e4-2202f5ab4fe6"
      },
      "cell_type": "code",
      "source": [
        "W = tf.Variable(np.random.randn())\n",
        "B = tf.Variable(np.random.randn())\n",
        "\n",
        "print(f'Initial loss is {loss(x, W, B, y)}')"
      ],
      "execution_count": 7,
      "outputs": [
        {
          "output_type": "stream",
          "text": [
            "Initial loss is 92.91170501708984\n"
          ],
          "name": "stdout"
        }
      ]
    },
    {
      "metadata": {
        "id": "IpHj6Xc1_5-I",
        "colab_type": "code",
        "colab": {}
      },
      "cell_type": "code",
      "source": [
        ""
      ],
      "execution_count": 0,
      "outputs": []
    }
  ]
}