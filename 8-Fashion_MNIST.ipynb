{
  "nbformat": 4,
  "nbformat_minor": 0,
  "metadata": {
    "colab": {
      "name": "Fashion MNIST",
      "version": "0.3.2",
      "provenance": [],
      "collapsed_sections": []
    },
    "kernelspec": {
      "name": "python3",
      "display_name": "Python 3"
    },
    "accelerator": "GPU"
  },
  "cells": [
    {
      "metadata": {
        "id": "_h8WEMEN5RnS",
        "colab_type": "code",
        "colab": {
          "base_uri": "https://localhost:8080/",
          "height": 34
        },
        "outputId": "6167bb2c-bef3-4913-8c8e-aec0cdbb7bc3"
      },
      "cell_type": "code",
      "source": [
        "!pip install -q tensorflow-gpu==2.0.0.alpha0\n",
        "import tensorflow as tf\n",
        "print(tf.__version__)\n",
        "from tensorflow.python.keras.datasets import fashion_mnist\n",
        "import numpy as np"
      ],
      "execution_count": 1,
      "outputs": [
        {
          "output_type": "stream",
          "text": [
            "2.0.0-alpha0\n"
          ],
          "name": "stdout"
        }
      ]
    },
    {
      "metadata": {
        "id": "YDZxAtkyqWOj",
        "colab_type": "code",
        "colab": {}
      },
      "cell_type": "code",
      "source": [
        "(x_train, y_train), (x_test, y_test) = fashion_mnist.load_data()\n",
        "\n",
        "# Normalize and cast the data\n",
        "x_train = x_train.astype('float32') / 255.\n",
        "x_test = x_test.astype('float32') / 255."
      ],
      "execution_count": 0,
      "outputs": []
    },
    {
      "metadata": {
        "id": "4Oz0FGxgr2Lj",
        "colab_type": "code",
        "colab": {}
      },
      "cell_type": "code",
      "source": [
        "split = 50000\n",
        "\n",
        "x_val = x_train[split:]\n",
        "y_val = y_train[split:]\n",
        "\n",
        "x_train = x_train[:split]\n",
        "y_train = y_train[:split]"
      ],
      "execution_count": 0,
      "outputs": []
    },
    {
      "metadata": {
        "id": "me4LrCNSwQqL",
        "colab_type": "code",
        "colab": {}
      },
      "cell_type": "code",
      "source": [
        "y_train_ohe = tf.one_hot(y_train, depth=10).numpy()\n",
        "y_val_ohe = tf.one_hot(y_val, depth=10).numpy()\n",
        "y_test_ohe = tf.one_hot(y_test, depth=10).numpy()"
      ],
      "execution_count": 0,
      "outputs": []
    },
    {
      "metadata": {
        "id": "yxw1Dpp8sRTI",
        "colab_type": "code",
        "colab": {}
      },
      "cell_type": "code",
      "source": [
        "class MyModel(tf.keras.Model):\n",
        "    def __init__(self, num_classes=10):\n",
        "        super(MyModel, self).__init__()\n",
        "        inputs = tf.keras.Input(shape=(28,28))\n",
        "        self.flatten = tf.keras.layers.Flatten()\n",
        "        self.dense = tf.keras.layers.Dense(10)\n",
        "        \n",
        "    def call(self, inputs):\n",
        "        x = self.flatten(inputs)\n",
        "        x = self.dense(x)\n",
        "        \n",
        "        with tf.device('/cpu:0'):\n",
        "            x = tf.nn.softmax(x)\n",
        "        return x"
      ],
      "execution_count": 0,
      "outputs": []
    },
    {
      "metadata": {
        "id": "Tep-iAW4wO1w",
        "colab_type": "code",
        "colab": {
          "base_uri": "https://localhost:8080/",
          "height": 407
        },
        "outputId": "72fbe319-dce0-4702-8f70-67176e24c098"
      },
      "cell_type": "code",
      "source": [
        "model = MyModel()\n",
        "model.compile(optimizer=tf.keras.optimizers.Adam(), loss='categorical_crossentropy', metrics=['accuracy'])\n",
        "model.fit(x_train, y_train_ohe, validation_data=(x_val, y_val_ohe), epochs=10, shuffle=False)"
      ],
      "execution_count": 6,
      "outputs": [
        {
          "output_type": "stream",
          "text": [
            "Train on 50000 samples, validate on 10000 samples\n",
            "Epoch 1/10\n",
            "50000/50000 [==============================] - 5s 104us/sample - loss: 0.6199 - accuracy: 0.7921 - val_loss: 0.5138 - val_accuracy: 0.8263\n",
            "Epoch 2/10\n",
            "50000/50000 [==============================] - 5s 95us/sample - loss: 0.4705 - accuracy: 0.8400 - val_loss: 0.4755 - val_accuracy: 0.8374\n",
            "Epoch 3/10\n",
            "50000/50000 [==============================] - 5s 95us/sample - loss: 0.4418 - accuracy: 0.8491 - val_loss: 0.4584 - val_accuracy: 0.8428\n",
            "Epoch 4/10\n",
            "50000/50000 [==============================] - 5s 95us/sample - loss: 0.4266 - accuracy: 0.8535 - val_loss: 0.4487 - val_accuracy: 0.8462\n",
            "Epoch 5/10\n",
            "50000/50000 [==============================] - 5s 93us/sample - loss: 0.4166 - accuracy: 0.8565 - val_loss: 0.4426 - val_accuracy: 0.8471\n",
            "Epoch 6/10\n",
            "50000/50000 [==============================] - 6s 111us/sample - loss: 0.4094 - accuracy: 0.8584 - val_loss: 0.4385 - val_accuracy: 0.8497\n",
            "Epoch 7/10\n",
            "50000/50000 [==============================] - 6s 114us/sample - loss: 0.4039 - accuracy: 0.8604 - val_loss: 0.4357 - val_accuracy: 0.8506\n",
            "Epoch 8/10\n",
            "50000/50000 [==============================] - 5s 94us/sample - loss: 0.3993 - accuracy: 0.8617 - val_loss: 0.4337 - val_accuracy: 0.8507\n",
            "Epoch 9/10\n",
            "50000/50000 [==============================] - 5s 94us/sample - loss: 0.3955 - accuracy: 0.8625 - val_loss: 0.4322 - val_accuracy: 0.8511\n",
            "Epoch 10/10\n",
            "50000/50000 [==============================] - 5s 94us/sample - loss: 0.3923 - accuracy: 0.8635 - val_loss: 0.4312 - val_accuracy: 0.8519\n"
          ],
          "name": "stdout"
        },
        {
          "output_type": "execute_result",
          "data": {
            "text/plain": [
              "<tensorflow.python.keras.callbacks.History at 0x7f85f1267f60>"
            ]
          },
          "metadata": {
            "tags": []
          },
          "execution_count": 6
        }
      ]
    },
    {
      "metadata": {
        "id": "IUHQB-ZB3J7x",
        "colab_type": "code",
        "colab": {
          "base_uri": "https://localhost:8080/",
          "height": 52
        },
        "outputId": "30c97a0b-5e2f-41d3-df07-73d7d2baaf83"
      },
      "cell_type": "code",
      "source": [
        "model.evaluate(x_test, y_test_ohe)"
      ],
      "execution_count": 7,
      "outputs": [
        {
          "output_type": "stream",
          "text": [
            "10000/10000 [==============================] - 1s 69us/sample - loss: 0.4578 - accuracy: 0.8422\n"
          ],
          "name": "stdout"
        },
        {
          "output_type": "execute_result",
          "data": {
            "text/plain": [
              "[0.4577962409973145, 0.8422]"
            ]
          },
          "metadata": {
            "tags": []
          },
          "execution_count": 7
        }
      ]
    },
    {
      "metadata": {
        "id": "z3j2ZPpP39M_",
        "colab_type": "code",
        "colab": {
          "base_uri": "https://localhost:8080/",
          "height": 70
        },
        "outputId": "024f17b1-a44a-4d28-d878-9e439e472e52"
      },
      "cell_type": "code",
      "source": [
        "fashion_labels = [\"Shirt/top\",\"Trousers\",\"Pullover\",\"Dress\",\"Coat\",\"Sandal\",\"Shirt\",\"Sneaker\",\"Bag\",\"Ankle boot\"]\n",
        "\n",
        "val1 = model.predict(x_test)\n",
        "index_predicted = np.argmax(val1[42])\n",
        "index_true = np.argmax(y_test_ohe[42])\n",
        "\n",
        "print(f'When prediction is: {index_predicted}')\n",
        "print(f'ie. predicted label is: {fashion_labels[index_predicted]}')\n",
        "print(f'True label is: {fashion_labels[index_true]}')"
      ],
      "execution_count": 11,
      "outputs": [
        {
          "output_type": "stream",
          "text": [
            "When prediction is 0\n",
            "ie. predicted label is Shirt/top\n",
            "True label is: Dress\n"
          ],
          "name": "stdout"
        }
      ]
    },
    {
      "metadata": {
        "id": "rEKfL1e_4-MP",
        "colab_type": "code",
        "colab": {
          "base_uri": "https://localhost:8080/",
          "height": 265
        },
        "outputId": "518fa79b-6d2f-4b7b-fd58-d7c8fb6e9853"
      },
      "cell_type": "code",
      "source": [
        "import matplotlib.pyplot as plt\n",
        "print (\"\\n\\nPredicted v (True) fashion labels, green is correct, red is wrong\")\n",
        "size = 12\n",
        "fig = plt.figure(figsize=(15,3))\n",
        "rows = 3\n",
        "cols = 4\n",
        "width = height = 28\n",
        "\n",
        "for i, index in enumerate(np.random.choice(x_test.shape[0], size = size, replace = False)):\n",
        "          axis = fig.add_subplot(rows,cols,i+1, xticks=[], yticks=[])\n",
        "          axis.imshow(x_test[index].reshape(width,height), cmap=\"Greys\")\n",
        "          index_predicted = np.argmax(val1[index])\n",
        "          index_true = np.argmax(y_test_ohe[index])\n",
        "          axis.set_title((\"{} ({})\").format(fashion_labels[index_predicted],fashion_labels[index_true]),\n",
        "                                                  color=(\"green\" if index_predicted==index_true else \"red\"))"
      ],
      "execution_count": 15,
      "outputs": [
        {
          "output_type": "stream",
          "text": [
            "\n",
            "\n",
            "Predicted V (True) fashion labels, green is correct, red is wrong\n"
          ],
          "name": "stdout"
        },
        {
          "output_type": "display_data",
          "data": {
            "image/png": "[encoded data removed]",
            "text/plain": [
              "<Figure size 1080x216 with 12 Axes>"
            ]
          },
          "metadata": {
            "tags": []
          }
        }
      ]
    }
  ]
}