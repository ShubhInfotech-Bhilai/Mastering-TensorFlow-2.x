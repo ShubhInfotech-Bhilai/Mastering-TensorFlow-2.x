{
  "nbformat": 4,
  "nbformat_minor": 0,
  "metadata": {
    "colab": {
      "name": "Tensorflow 2.0",
      "version": "0.3.2",
      "provenance": [],
      "collapsed_sections": []
    },
    "kernelspec": {
      "name": "python3",
      "display_name": "Python 3"
    },
    "accelerator": "GPU"
  },
  "cells": [
    {
      "metadata": {
        "id": "y7_LYnmMKXbb",
        "colab_type": "code",
        "outputId": "2973a322-bbb3-4f50-b14f-b130581a1772",
        "colab": {
          "base_uri": "https://localhost:8080/",
          "height": 570
        }
      },
      "cell_type": "code",
      "source": [
        "!pip install tensorflow-gpu==2.0.0-alpha0\n",
        "import tensorflow as tf\n",
        "\n",
        "print(tf.__version__)"
      ],
      "execution_count": 3,
      "outputs": [
        {
          "output_type": "stream",
          "text": [
            "Collecting tensorflow-gpu==2.0.0-alpha0\n",
            "\u001b[?25l  Downloading https://files.pythonhosted.org/packages/1a/66/32cffad095253219d53f6b6c2a436637bbe45ac4e7be0244557210dc3918/tensorflow_gpu-2.0.0a0-cp36-cp36m-manylinux1_x86_64.whl (332.1MB)\n",
            "\u001b[K    100% |████████████████████████████████| 332.1MB 32kB/s \n",
            "\u001b[?25hRequirement already satisfied: termcolor>=1.1.0 in /usr/local/lib/python3.6/dist-packages (from tensorflow-gpu==2.0.0-alpha0) (1.1.0)\n",
            "Requirement already satisfied: keras-preprocessing>=1.0.5 in /usr/local/lib/python3.6/dist-packages (from tensorflow-gpu==2.0.0-alpha0) (1.0.9)\n",
            "Requirement already satisfied: wheel>=0.26 in /usr/local/lib/python3.6/dist-packages (from tensorflow-gpu==2.0.0-alpha0) (0.33.1)\n",
            "Requirement already satisfied: absl-py>=0.7.0 in /usr/local/lib/python3.6/dist-packages (from tensorflow-gpu==2.0.0-alpha0) (0.7.1)\n",
            "Requirement already satisfied: grpcio>=1.8.6 in /usr/local/lib/python3.6/dist-packages (from tensorflow-gpu==2.0.0-alpha0) (1.15.0)\n",
            "Collecting tf-estimator-nightly<1.14.0.dev2019030116,>=1.14.0.dev2019030115 (from tensorflow-gpu==2.0.0-alpha0)\n",
            "\u001b[?25l  Downloading https://files.pythonhosted.org/packages/13/82/f16063b4eed210dc2ab057930ac1da4fbe1e91b7b051a6c8370b401e6ae7/tf_estimator_nightly-1.14.0.dev2019030115-py2.py3-none-any.whl (411kB)\n",
            "\u001b[K    100% |████████████████████████████████| 419kB 11.0MB/s \n",
            "\u001b[?25hCollecting tb-nightly<1.14.0a20190302,>=1.14.0a20190301 (from tensorflow-gpu==2.0.0-alpha0)\n",
            "\u001b[?25l  Downloading https://files.pythonhosted.org/packages/a9/51/aa1d756644bf4624c03844115e4ac4058eff77acd786b26315f051a4b195/tb_nightly-1.14.0a20190301-py3-none-any.whl (3.0MB)\n",
            "\u001b[K    100% |████████████████████████████████| 3.0MB 1.1MB/s \n",
            "\u001b[?25hRequirement already satisfied: astor>=0.6.0 in /usr/local/lib/python3.6/dist-packages (from tensorflow-gpu==2.0.0-alpha0) (0.7.1)\n",
            "Collecting google-pasta>=0.1.2 (from tensorflow-gpu==2.0.0-alpha0)\n",
            "\u001b[?25l  Downloading https://files.pythonhosted.org/packages/64/bb/f1bbc131d6294baa6085a222d29abadd012696b73dcbf8cf1bf56b9f082a/google_pasta-0.1.5-py3-none-any.whl (51kB)\n",
            "\u001b[K    100% |████████████████████████████████| 61kB 28.1MB/s \n",
            "\u001b[?25hRequirement already satisfied: gast>=0.2.0 in /usr/local/lib/python3.6/dist-packages (from tensorflow-gpu==2.0.0-alpha0) (0.2.2)\n",
            "Requirement already satisfied: keras-applications>=1.0.6 in /usr/local/lib/python3.6/dist-packages (from tensorflow-gpu==2.0.0-alpha0) (1.0.7)\n",
            "Requirement already satisfied: protobuf>=3.6.1 in /usr/local/lib/python3.6/dist-packages (from tensorflow-gpu==2.0.0-alpha0) (3.7.1)\n",
            "Requirement already satisfied: numpy<2.0,>=1.14.5 in /usr/local/lib/python3.6/dist-packages (from tensorflow-gpu==2.0.0-alpha0) (1.16.2)\n",
            "Requirement already satisfied: six>=1.10.0 in /usr/local/lib/python3.6/dist-packages (from tensorflow-gpu==2.0.0-alpha0) (1.11.0)\n",
            "Requirement already satisfied: markdown>=2.6.8 in /usr/local/lib/python3.6/dist-packages (from tb-nightly<1.14.0a20190302,>=1.14.0a20190301->tensorflow-gpu==2.0.0-alpha0) (3.1)\n",
            "Requirement already satisfied: werkzeug>=0.11.15 in /usr/local/lib/python3.6/dist-packages (from tb-nightly<1.14.0a20190302,>=1.14.0a20190301->tensorflow-gpu==2.0.0-alpha0) (0.15.2)\n",
            "Requirement already satisfied: h5py in /usr/local/lib/python3.6/dist-packages (from keras-applications>=1.0.6->tensorflow-gpu==2.0.0-alpha0) (2.8.0)\n",
            "Requirement already satisfied: setuptools in /usr/local/lib/python3.6/dist-packages (from protobuf>=3.6.1->tensorflow-gpu==2.0.0-alpha0) (40.9.0)\n",
            "Installing collected packages: tf-estimator-nightly, tb-nightly, google-pasta, tensorflow-gpu\n",
            "Successfully installed google-pasta-0.1.5 tb-nightly-1.14.0a20190301 tensorflow-gpu-2.0.0a0 tf-estimator-nightly-1.14.0.dev2019030115\n",
            "2.0.0-alpha0\n"
          ],
          "name": "stdout"
        }
      ]
    },
    {
      "metadata": {
        "id": "ceH1L1joK1EA",
        "colab_type": "code",
        "outputId": "91b8fc37-f1d8-4eed-98c7-711ebaf75e5c",
        "colab": {
          "base_uri": "https://localhost:8080/",
          "height": 70
        }
      },
      "cell_type": "code",
      "source": [
        "print(tf.__version__)\n",
        "print(tf.executing_eagerly())\n",
        "print(tf.keras.__version__)"
      ],
      "execution_count": 2,
      "outputs": [
        {
          "output_type": "stream",
          "text": [
            "2.0.0-alpha0\n",
            "True\n",
            "2.2.4-tf\n"
          ],
          "name": "stdout"
        }
      ]
    },
    {
      "metadata": {
        "id": "3G8cdaIUK4-p",
        "colab_type": "code",
        "outputId": "29787648-1bea-49fe-b80e-176e73b8e125",
        "colab": {
          "base_uri": "https://localhost:8080/",
          "height": 34
        }
      },
      "cell_type": "code",
      "source": [
        "var = tf.Variable([3, 3])\n",
        "if tf.test.is_gpu_available():\n",
        "    print(var.device.endswith('GPU:1'))\n",
        "else:\n",
        "    print(\"Run on CPU\")"
      ],
      "execution_count": 3,
      "outputs": [
        {
          "output_type": "stream",
          "text": [
            "False\n"
          ],
          "name": "stdout"
        }
      ]
    },
    {
      "metadata": {
        "id": "iHfFMeF1ORtl",
        "colab_type": "code",
        "outputId": "1b15a5d5-a0d3-4d9b-ebf2-64485b04cb98",
        "colab": {
          "base_uri": "https://localhost:8080/",
          "height": 70
        }
      },
      "cell_type": "code",
      "source": [
        "t2 = tf.Variable([ [ [0., 1., 2.], [3., 4., 5.] ], [ [6., 7., 8.], [9., 10., 11.] ] ])\n",
        "t3 = tf.reshape(t2, [1, 12])\n",
        "print(t2.shape)\n",
        "print(t3.shape)\n",
        "print(t2[1,1,2])"
      ],
      "execution_count": 4,
      "outputs": [
        {
          "output_type": "stream",
          "text": [
            "(2, 2, 3)\n",
            "(1, 12)\n",
            "tf.Tensor(11.0, shape=(), dtype=float32)\n"
          ],
          "name": "stdout"
        }
      ]
    },
    {
      "metadata": {
        "id": "I41MiHUBRl7A",
        "colab_type": "code",
        "outputId": "bf30f98c-6029-4ea1-8e93-02abe8fa53a6",
        "colab": {
          "base_uri": "https://localhost:8080/",
          "height": 34
        }
      },
      "cell_type": "code",
      "source": [
        "print(tf.size(t2).numpy())"
      ],
      "execution_count": 5,
      "outputs": [
        {
          "output_type": "stream",
          "text": [
            "12\n"
          ],
          "name": "stdout"
        }
      ]
    },
    {
      "metadata": {
        "id": "Q_EJ8TijUAgq",
        "colab_type": "code",
        "colab": {}
      },
      "cell_type": "code",
      "source": [
        "t3 = t2 * 4"
      ],
      "execution_count": 0,
      "outputs": []
    },
    {
      "metadata": {
        "id": "sBVU4fKzVdIk",
        "colab_type": "code",
        "outputId": "a0f31cb5-09c7-4185-b4e7-bfa4529d00b3",
        "colab": {
          "base_uri": "https://localhost:8080/",
          "height": 123
        }
      },
      "cell_type": "code",
      "source": [
        "tf.math.squared_difference(t3, t2)"
      ],
      "execution_count": 7,
      "outputs": [
        {
          "output_type": "execute_result",
          "data": {
            "text/plain": [
              "<tf.Tensor: id=31, shape=(2, 2, 3), dtype=float32, numpy=\n",
              "array([[[   0.,    9.,   36.],\n",
              "        [  81.,  144.,  225.]],\n",
              "\n",
              "       [[ 324.,  441.,  576.],\n",
              "        [ 729.,  900., 1089.]]], dtype=float32)>"
            ]
          },
          "metadata": {
            "tags": []
          },
          "execution_count": 7
        }
      ]
    },
    {
      "metadata": {
        "id": "U0QQAw2RE7yw",
        "colab_type": "code",
        "outputId": "989fc337-6e52-4e5c-9758-7b053f965209",
        "colab": {
          "base_uri": "https://localhost:8080/",
          "height": 123
        }
      },
      "cell_type": "code",
      "source": [
        "t3"
      ],
      "execution_count": 8,
      "outputs": [
        {
          "output_type": "execute_result",
          "data": {
            "text/plain": [
              "<tf.Tensor: id=29, shape=(2, 2, 3), dtype=float32, numpy=\n",
              "array([[[ 0.,  4.,  8.],\n",
              "        [12., 16., 20.]],\n",
              "\n",
              "       [[24., 28., 32.],\n",
              "        [36., 40., 44.]]], dtype=float32)>"
            ]
          },
          "metadata": {
            "tags": []
          },
          "execution_count": 8
        }
      ]
    },
    {
      "metadata": {
        "id": "5gW4X5griMZg",
        "colab_type": "code",
        "outputId": "fdd42c75-6fa8-49c5-a070-7c9763129b55",
        "colab": {
          "base_uri": "https://localhost:8080/",
          "height": 87
        }
      },
      "cell_type": "code",
      "source": [
        "tf.reduce_mean(t3, axis=1, keepdims=True)"
      ],
      "execution_count": 9,
      "outputs": [
        {
          "output_type": "execute_result",
          "data": {
            "text/plain": [
              "<tf.Tensor: id=35, shape=(2, 1, 3), dtype=float32, numpy=\n",
              "array([[[ 6., 10., 14.]],\n",
              "\n",
              "       [[30., 34., 38.]]], dtype=float32)>"
            ]
          },
          "metadata": {
            "tags": []
          },
          "execution_count": 9
        }
      ]
    },
    {
      "metadata": {
        "id": "dbhEi3_TibAL",
        "colab_type": "code",
        "colab": {}
      },
      "cell_type": "code",
      "source": [
        "dice1 = tf.Variable(tf.random.uniform([10,1], 1, 6, seed=42))\n",
        "dice2 = tf.Variable(tf.random.uniform([10,1], 1, 6, seed=4))\n",
        "sum_val = dice1 + dice2\n",
        "\n",
        "con = tf.concat(values=[dice1, dice2, sum_val], axis=1)"
      ],
      "execution_count": 0,
      "outputs": []
    },
    {
      "metadata": {
        "id": "nj_lkYXaI0gx",
        "colab_type": "code",
        "outputId": "40437096-7532-49c1-ea9a-3ff3b6a59543",
        "colab": {
          "base_uri": "https://localhost:8080/",
          "height": 212
        }
      },
      "cell_type": "code",
      "source": [
        "con"
      ],
      "execution_count": 11,
      "outputs": [
        {
          "output_type": "execute_result",
          "data": {
            "text/plain": [
              "<tf.Tensor: id=69, shape=(10, 3), dtype=float32, numpy=\n",
              "array([[ 5.7613573,  5.7829084, 11.544266 ],\n",
              "       [ 4.3870387,  2.334054 ,  6.7210927],\n",
              "       [ 4.976591 ,  5.988989 , 10.96558  ],\n",
              "       [ 4.7789087,  5.229465 , 10.008373 ],\n",
              "       [ 3.379778 ,  1.1509184,  4.5306964],\n",
              "       [ 4.155074 ,  2.4473443,  6.6024184],\n",
              "       [ 1.9301019,  4.5956306,  6.5257325],\n",
              "       [ 1.5715388,  5.2020426,  6.7735815],\n",
              "       [ 2.681109 ,  2.6014438,  5.2825527],\n",
              "       [ 4.6166754,  2.3770688,  6.993744 ]], dtype=float32)>"
            ]
          },
          "metadata": {
            "tags": []
          },
          "execution_count": 11
        }
      ]
    },
    {
      "metadata": {
        "id": "b3c2oJN0I189",
        "colab_type": "code",
        "outputId": "eb7f8d46-3177-4037-ec02-d665c37c29f7",
        "colab": {
          "base_uri": "https://localhost:8080/",
          "height": 52
        }
      },
      "cell_type": "code",
      "source": [
        "var = tf.Variable([1,2,3])\n",
        "check = tf.train.Checkpoint(var=var)\n",
        "save = check.save('./')\n",
        "var.assign([0,0,0])\n",
        "print(var)\n",
        "check.restore(save)\n",
        "print(var)"
      ],
      "execution_count": 13,
      "outputs": [
        {
          "output_type": "stream",
          "text": [
            "<tf.Variable 'Variable:0' shape=(3,) dtype=int32, numpy=array([0, 0, 0], dtype=int32)>\n",
            "<tf.Variable 'Variable:0' shape=(3,) dtype=int32, numpy=array([1, 2, 3], dtype=int32)>\n"
          ],
          "name": "stdout"
        }
      ]
    },
    {
      "metadata": {
        "id": "ZL2oVK-AJcoY",
        "colab_type": "code",
        "colab": {}
      },
      "cell_type": "code",
      "source": [
        "def f1(t1, t2):\n",
        "    return tf.reduce_mean(tf.multiply(t1,t2), axis=None)\n",
        "\n",
        "f2 = tf.function(f1)\n",
        "\n",
        "t1 = tf.Variable([1,2,3])\n",
        "t2 = tf.Variable([4,5,6])\n",
        "\n",
        "assert f1(t1, t2).numpy() == f2(t1, t2).numpy()"
      ],
      "execution_count": 0,
      "outputs": []
    },
    {
      "metadata": {
        "id": "nFtw52_Uw61-",
        "colab_type": "text"
      },
      "cell_type": "markdown",
      "source": [
        "### MNIST with TF 2.0\n"
      ]
    },
    {
      "metadata": {
        "id": "c7TOAR6OnBIK",
        "colab_type": "code",
        "colab": {
          "base_uri": "https://localhost:8080/",
          "height": 52
        },
        "outputId": "05538568-8682-48d2-8e86-02837cbe0e97"
      },
      "cell_type": "code",
      "source": [
        "# Load the data\n",
        "mnist = tf.keras.datasets.mnist\n",
        "(x_train, y_train), (x_test, y_test) = mnist.load_data()\n",
        "\n",
        "# Normalize the data\n",
        "x_train, x_test = tf.cast(x_train/255.0, tf.float32), tf.cast(x_test/255.0, tf.float32)\n",
        "y_train, y_test = tf.cast(y_train/255.0, tf.int64), tf.cast(y_test/255.0, tf.int64)"
      ],
      "execution_count": 5,
      "outputs": [
        {
          "output_type": "stream",
          "text": [
            "Downloading data from https://storage.googleapis.com/tensorflow/tf-keras-datasets/mnist.npz\n",
            "11493376/11490434 [==============================] - 0s 0us/step\n"
          ],
          "name": "stdout"
        }
      ]
    },
    {
      "metadata": {
        "id": "MJdxCpZwyNna",
        "colab_type": "code",
        "colab": {}
      },
      "cell_type": "code",
      "source": [
        "model1 = tf.keras.models.Sequential([\n",
        "    tf.keras.layers.Flatten(),\n",
        "    tf.keras.layers.Dense(512, activation=tf.nn.relu),\n",
        "    tf.keras.layers.Dropout(0.2),\n",
        "    tf.keras.layers.Dense(10, activation=tf.nn.softmax)\n",
        "])"
      ],
      "execution_count": 0,
      "outputs": []
    },
    {
      "metadata": {
        "id": "w0dB6I3l0meO",
        "colab_type": "code",
        "colab": {}
      },
      "cell_type": "code",
      "source": [
        "model1.compile(optimizer=tf.keras.optimizers.Adam(), loss='sparse_categorical_crossentropy', metrics=['accuracy'])"
      ],
      "execution_count": 0,
      "outputs": []
    },
    {
      "metadata": {
        "id": "BbPsCnhR0-jf",
        "colab_type": "code",
        "colab": {
          "base_uri": "https://localhost:8080/",
          "height": 390
        },
        "outputId": "6cb07640-db39-44c5-826e-8eddf29e0623"
      },
      "cell_type": "code",
      "source": [
        "model1.fit(x_train, y_train, batch_size=32, epochs=10)"
      ],
      "execution_count": 23,
      "outputs": [
        {
          "output_type": "stream",
          "text": [
            "Epoch 1/10\n",
            "60000/60000 [==============================] - 6s 101us/sample - loss: 0.0020 - accuracy: 0.9995\n",
            "Epoch 2/10\n",
            "60000/60000 [==============================] - 6s 104us/sample - loss: 7.0533e-07 - accuracy: 1.0000\n",
            "Epoch 3/10\n",
            "60000/60000 [==============================] - 6s 95us/sample - loss: 2.0946e-07 - accuracy: 1.0000\n",
            "Epoch 4/10\n",
            "60000/60000 [==============================] - 5s 89us/sample - loss: 1.2160e-07 - accuracy: 1.0000\n",
            "Epoch 5/10\n",
            "60000/60000 [==============================] - 5s 89us/sample - loss: 4.2551e-08 - accuracy: 1.0000\n",
            "Epoch 6/10\n",
            "60000/60000 [==============================] - 5s 89us/sample - loss: 1.1026e-08 - accuracy: 1.0000\n",
            "Epoch 7/10\n",
            "60000/60000 [==============================] - 5s 88us/sample - loss: 3.4630e-09 - accuracy: 1.0000\n",
            "Epoch 8/10\n",
            "60000/60000 [==============================] - 5s 88us/sample - loss: 2.6007e-09 - accuracy: 1.0000\n",
            "Epoch 9/10\n",
            "60000/60000 [==============================] - 5s 88us/sample - loss: 2.2351e-09 - accuracy: 1.0000\n",
            "Epoch 10/10\n",
            "60000/60000 [==============================] - 5s 88us/sample - loss: 3.3975e-10 - accuracy: 1.0000\n"
          ],
          "name": "stdout"
        },
        {
          "output_type": "execute_result",
          "data": {
            "text/plain": [
              "<tensorflow.python.keras.callbacks.History at 0x7fce9069e4a8>"
            ]
          },
          "metadata": {
            "tags": []
          },
          "execution_count": 23
        }
      ]
    },
    {
      "metadata": {
        "id": "EQyiy3QJ2Kp7",
        "colab_type": "code",
        "colab": {
          "base_uri": "https://localhost:8080/",
          "height": 52
        },
        "outputId": "2ef17400-8b5b-438d-8fc6-b060b8f4835a"
      },
      "cell_type": "code",
      "source": [
        "model1.evaluate(x_test, y_test)"
      ],
      "execution_count": 24,
      "outputs": [
        {
          "output_type": "stream",
          "text": [
            "10000/10000 [==============================] - 1s 61us/sample - loss: 1.6689e-10 - accuracy: 1.0000\n"
          ],
          "name": "stdout"
        },
        {
          "output_type": "execute_result",
          "data": {
            "text/plain": [
              "[1.6689292579030734e-10, 1.0]"
            ]
          },
          "metadata": {
            "tags": []
          },
          "execution_count": 24
        }
      ]
    },
    {
      "metadata": {
        "id": "-fmT6ii332Ab",
        "colab_type": "code",
        "colab": {
          "base_uri": "https://localhost:8080/",
          "height": 301
        },
        "outputId": "cd2f3d5e-c8e1-41c4-d472-17d23bac0d50"
      },
      "cell_type": "code",
      "source": [
        "model1.summary()"
      ],
      "execution_count": 26,
      "outputs": [
        {
          "output_type": "stream",
          "text": [
            "Model: \"sequential_2\"\n",
            "_________________________________________________________________\n",
            "Layer (type)                 Output Shape              Param #   \n",
            "=================================================================\n",
            "flatten_2 (Flatten)          multiple                  0         \n",
            "_________________________________________________________________\n",
            "dense_4 (Dense)              multiple                  401920    \n",
            "_________________________________________________________________\n",
            "dropout_2 (Dropout)          multiple                  0         \n",
            "_________________________________________________________________\n",
            "dense_5 (Dense)              multiple                  5130      \n",
            "=================================================================\n",
            "Total params: 407,050\n",
            "Trainable params: 407,050\n",
            "Non-trainable params: 0\n",
            "_________________________________________________________________\n"
          ],
          "name": "stdout"
        }
      ]
    },
    {
      "metadata": {
        "id": "5flVm34L7kOg",
        "colab_type": "text"
      },
      "cell_type": "markdown",
      "source": [
        "### Using the Functional API"
      ]
    },
    {
      "metadata": {
        "id": "vyDS0Tmm4fsz",
        "colab_type": "code",
        "colab": {}
      },
      "cell_type": "code",
      "source": [
        "inputs = tf.keras.Input(shape=(28,28)) # Placeholder tensor\n",
        "x = tf.keras.layers.Flatten()(inputs)\n",
        "x = tf.keras.layers.Dense(512, activation=tf.nn.relu)(x)\n",
        "x = tf.keras.layers.Dropout(0.2)(x)\n",
        "outputs = tf.keras.layers.Dense(10, activation=tf.nn.softmax)(x)\n",
        "model2 = tf.keras.Model(inputs=inputs, outputs=outputs)"
      ],
      "execution_count": 0,
      "outputs": []
    },
    {
      "metadata": {
        "id": "DQJefMWT8KVN",
        "colab_type": "code",
        "colab": {
          "base_uri": "https://localhost:8080/",
          "height": 336
        },
        "outputId": "b3804acb-2c00-426c-8aa4-879b06ae419f"
      },
      "cell_type": "code",
      "source": [
        "model2.summary()"
      ],
      "execution_count": 28,
      "outputs": [
        {
          "output_type": "stream",
          "text": [
            "Model: \"model\"\n",
            "_________________________________________________________________\n",
            "Layer (type)                 Output Shape              Param #   \n",
            "=================================================================\n",
            "input_1 (InputLayer)         [(None, 28, 28)]          0         \n",
            "_________________________________________________________________\n",
            "flatten_3 (Flatten)          (None, 784)               0         \n",
            "_________________________________________________________________\n",
            "dense_6 (Dense)              (None, 512)               401920    \n",
            "_________________________________________________________________\n",
            "dropout_3 (Dropout)          (None, 512)               0         \n",
            "_________________________________________________________________\n",
            "dense_7 (Dense)              (None, 10)                5130      \n",
            "=================================================================\n",
            "Total params: 407,050\n",
            "Trainable params: 407,050\n",
            "Non-trainable params: 0\n",
            "_________________________________________________________________\n"
          ],
          "name": "stdout"
        }
      ]
    },
    {
      "metadata": {
        "id": "w6QycpSq_k3c",
        "colab_type": "text"
      },
      "cell_type": "markdown",
      "source": [
        "### Subclassing the model"
      ]
    },
    {
      "metadata": {
        "id": "T-5D-e5C8MlX",
        "colab_type": "code",
        "colab": {}
      },
      "cell_type": "code",
      "source": [
        "class MyModel(tf.keras.Model):\n",
        "    def __init__(self, num_classes=10):\n",
        "        super(MyModel, self).__init__()\n",
        "        inputs = tf.keras.Input(shape=(28,28))\n",
        "        self.x0 = tf.keras.layers.Flatten()\n",
        "        self.x1 = tf.keras.layers.Dense(512, activation=tf.nn.relu)\n",
        "        self.x2 = tf.keras.layers.Dropout(0.2)\n",
        "        self.outputs = tf.keras.layers.Dense(10, activation=tf.nn.softmax)\n",
        " \n",
        "    def call(self, inputs):\n",
        "        x = self.x0(inputs)\n",
        "        x = self.x1(x)\n",
        "        x = self.x2(x)\n",
        "        return self.outputs(x)"
      ],
      "execution_count": 0,
      "outputs": []
    },
    {
      "metadata": {
        "id": "ltDQp1YHpt0M",
        "colab_type": "code",
        "colab": {
          "base_uri": "https://localhost:8080/",
          "height": 212
        },
        "outputId": "cc32b7c9-b47e-499b-9235-d5f9faad0f8c"
      },
      "cell_type": "code",
      "source": [
        "model3 = ModelSubClass()\n",
        "model3.compile(optimizer=tf.keras.optimizers.Adam(), loss='sparse_categorical_crossentropy', metrics=['accuracy'])\n",
        "model3.fit(x_train, y_train, batch_size=32, epochs=5)"
      ],
      "execution_count": 15,
      "outputs": [
        {
          "output_type": "stream",
          "text": [
            "Epoch 1/5\n",
            "60000/60000 [==============================] - 6s 97us/sample - loss: 0.0022 - accuracy: 0.9996\n",
            "Epoch 2/5\n",
            "60000/60000 [==============================] - 6s 97us/sample - loss: 3.3479e-07 - accuracy: 1.0000\n",
            "Epoch 3/5\n",
            "60000/60000 [==============================] - 5s 87us/sample - loss: 3.5305e-07 - accuracy: 1.0000\n",
            "Epoch 4/5\n",
            "60000/60000 [==============================] - 5s 86us/sample - loss: 1.0769e-07 - accuracy: 1.0000\n",
            "Epoch 5/5\n",
            "60000/60000 [==============================] - 5s 86us/sample - loss: 2.9306e-08 - accuracy: 1.0000\n"
          ],
          "name": "stdout"
        },
        {
          "output_type": "execute_result",
          "data": {
            "text/plain": [
              "<tensorflow.python.keras.callbacks.History at 0x7f62d00c6e48>"
            ]
          },
          "metadata": {
            "tags": []
          },
          "execution_count": 15
        }
      ]
    },
    {
      "metadata": {
        "id": "Z5g0wQrXpyvf",
        "colab_type": "code",
        "colab": {
          "base_uri": "https://localhost:8080/",
          "height": 52
        },
        "outputId": "b463a64b-7eaf-4ba9-c310-f33371685a00"
      },
      "cell_type": "code",
      "source": [
        "model3.evaluate(x_test, y_test)"
      ],
      "execution_count": 17,
      "outputs": [
        {
          "output_type": "stream",
          "text": [
            "10000/10000 [==============================] - 1s 59us/sample - loss: 4.6492e-10 - accuracy: 1.0000\n"
          ],
          "name": "stdout"
        },
        {
          "output_type": "execute_result",
          "data": {
            "text/plain": [
              "[4.6491581997543106e-10, 1.0]"
            ]
          },
          "metadata": {
            "tags": []
          },
          "execution_count": 17
        }
      ]
    },
    {
      "metadata": {
        "id": "fmqEig0wSnte",
        "colab_type": "code",
        "colab": {}
      },
      "cell_type": "code",
      "source": [
        ""
      ],
      "execution_count": 0,
      "outputs": []
    }
  ]
}