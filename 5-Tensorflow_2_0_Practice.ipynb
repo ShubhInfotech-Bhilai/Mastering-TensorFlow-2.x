{
  "nbformat": 4,
  "nbformat_minor": 0,
  "metadata": {
    "colab": {
      "name": "Tensorflow 2.0 Practice",
      "version": "0.3.2",
      "provenance": [],
      "collapsed_sections": []
    },
    "kernelspec": {
      "name": "python3",
      "display_name": "Python 3"
    },
    "accelerator": "GPU"
  },
  "cells": [
    {
      "cell_type": "code",
      "metadata": {
        "id": "mFfbyRVDnUf4",
        "colab_type": "code",
        "outputId": "0a46654e-ca91-4b10-ec38-788aa2f4c168",
        "colab": {
          "base_uri": "https://localhost:8080/",
          "height": 34
        }
      },
      "source": [
        "! pip -q install tensorflow==2.0.0.alpha0\n",
        "import tensorflow as tf\n",
        "print(tf.__version__)"
      ],
      "execution_count": 0,
      "outputs": [
        {
          "output_type": "stream",
          "text": [
            "2.0.0-alpha0\n"
          ],
          "name": "stdout"
        }
      ]
    },
    {
      "cell_type": "code",
      "metadata": {
        "id": "dMsVjQT0nqM7",
        "colab_type": "code",
        "colab": {}
      },
      "source": [
        "from sklearn.datasets import fetch_california_housing\n",
        "from sklearn.model_selection import train_test_split\n",
        "from sklearn.preprocessing import StandardScaler"
      ],
      "execution_count": 0,
      "outputs": []
    },
    {
      "cell_type": "code",
      "metadata": {
        "id": "yzhuJhiSTl5W",
        "colab_type": "code",
        "outputId": "34dc885d-89b7-432a-b641-54cddb3418b9",
        "colab": {
          "base_uri": "https://localhost:8080/",
          "height": 527
        }
      },
      "source": [
        "import pandas as pd\n",
        "\n",
        "pd.DataFrame(history.history).plot(figsize=(8, 5))\n",
        "plt.grid(True)\n",
        "plt.gca().set_ylim(0, 1)\n",
        "save_fig(\"keras_learning_curves_plot\")\n",
        "plt.show()"
      ],
      "execution_count": 0,
      "outputs": [
        {
          "output_type": "error",
          "ename": "NameError",
          "evalue": "ignored",
          "traceback": [
            "\u001b[0;31m---------------------------------------------------------------------------\u001b[0m",
            "\u001b[0;31mNameError\u001b[0m                                 Traceback (most recent call last)",
            "\u001b[0;32m<ipython-input-69-e5ab1d7e7f53>\u001b[0m in \u001b[0;36m<module>\u001b[0;34m()\u001b[0m\n\u001b[1;32m      4\u001b[0m \u001b[0mplt\u001b[0m\u001b[0;34m.\u001b[0m\u001b[0mgrid\u001b[0m\u001b[0;34m(\u001b[0m\u001b[0;32mTrue\u001b[0m\u001b[0;34m)\u001b[0m\u001b[0;34m\u001b[0m\u001b[0;34m\u001b[0m\u001b[0m\n\u001b[1;32m      5\u001b[0m \u001b[0mplt\u001b[0m\u001b[0;34m.\u001b[0m\u001b[0mgca\u001b[0m\u001b[0;34m(\u001b[0m\u001b[0;34m)\u001b[0m\u001b[0;34m.\u001b[0m\u001b[0mset_ylim\u001b[0m\u001b[0;34m(\u001b[0m\u001b[0;36m0\u001b[0m\u001b[0;34m,\u001b[0m \u001b[0;36m1\u001b[0m\u001b[0;34m)\u001b[0m\u001b[0;34m\u001b[0m\u001b[0;34m\u001b[0m\u001b[0m\n\u001b[0;32m----> 6\u001b[0;31m \u001b[0msave_fig\u001b[0m\u001b[0;34m(\u001b[0m\u001b[0;34m\"keras_learning_curves_plot\"\u001b[0m\u001b[0;34m)\u001b[0m\u001b[0;34m\u001b[0m\u001b[0;34m\u001b[0m\u001b[0m\n\u001b[0m\u001b[1;32m      7\u001b[0m \u001b[0mplt\u001b[0m\u001b[0;34m.\u001b[0m\u001b[0mshow\u001b[0m\u001b[0;34m(\u001b[0m\u001b[0;34m)\u001b[0m\u001b[0;34m\u001b[0m\u001b[0;34m\u001b[0m\u001b[0m\n",
            "\u001b[0;31mNameError\u001b[0m: name 'save_fig' is not defined"
          ]
        },
        {
          "output_type": "display_data",
          "data": {
            "image/png": "[encoded data removed]",
            "text/plain": [
              "<Figure size 576x360 with 1 Axes>"
            ]
          },
          "metadata": {
            "tags": []
          }
        }
      ]
    },
    {
      "cell_type": "code",
      "metadata": {
        "id": "6Bfmho1W2uqv",
        "colab_type": "code",
        "colab": {}
      },
      "source": [
        "data = fetch_california_housing()\n",
        "\n",
        "X_train_full, X_test, Y_train_full, Y_test = train_test_split(data.data, data.target)\n",
        "\n",
        "X_train, X_val, Y_train, Y_val = train_test_split(X_train_full, Y_train_full)"
      ],
      "execution_count": 0,
      "outputs": []
    },
    {
      "cell_type": "code",
      "metadata": {
        "id": "xQuOK9W48AXE",
        "colab_type": "code",
        "colab": {}
      },
      "source": [
        "scaler = StandardScaler()\n",
        "\n",
        "X_train = scaler.fit_transform(X_train)\n",
        "X_test = scaler.transform(X_test)\n",
        "X_val = scaler.transform(X_val)"
      ],
      "execution_count": 0,
      "outputs": []
    },
    {
      "cell_type": "code",
      "metadata": {
        "id": "Xp-IyXWe3TGU",
        "colab_type": "code",
        "colab": {}
      },
      "source": [
        "input = tf.keras.layers.Input(shape=X_train.shape[1:])\n",
        "layer1 = tf.keras.layers.Dense(30, activation='relu')(input)\n",
        "layer2 = tf.keras.layers.Dense(30, activation='relu')(layer1)\n",
        "wide = tf.keras.layers.Concatenate(axis=1)([input, layer2])\n",
        "outputs = tf.keras.layers.Dense(1)(wide)\n",
        "model = tf.keras.models.Model(inputs=[input], outputs=[outputs])"
      ],
      "execution_count": 0,
      "outputs": []
    },
    {
      "cell_type": "code",
      "metadata": {
        "id": "J_IIiTd4_7L2",
        "colab_type": "code",
        "colab": {}
      },
      "source": [
        "model.summary()"
      ],
      "execution_count": 0,
      "outputs": []
    },
    {
      "cell_type": "code",
      "metadata": {
        "id": "j5ynMSp289KT",
        "colab_type": "code",
        "colab": {}
      },
      "source": [
        "model.compile(optimizer='sgd', loss='mean_squared_error')"
      ],
      "execution_count": 0,
      "outputs": []
    },
    {
      "cell_type": "code",
      "metadata": {
        "id": "kpTWvqSd__p1",
        "colab_type": "code",
        "colab": {}
      },
      "source": [
        "from tensorflow.keras.callbacks import History\n",
        "history = History()\n",
        "model.fit(X_train, Y_train, batch_size=32, epochs=20, validation_data=(X_val, Y_val))"
      ],
      "execution_count": 0,
      "outputs": []
    },
    {
      "cell_type": "code",
      "metadata": {
        "id": "W52UNpOTAP6l",
        "colab_type": "code",
        "colab": {}
      },
      "source": [
        "model.evaluate(X_test, Y_test)"
      ],
      "execution_count": 0,
      "outputs": []
    },
    {
      "cell_type": "markdown",
      "metadata": {
        "id": "oiURIA95CzwJ",
        "colab_type": "text"
      },
      "source": [
        "### Subclassing the model"
      ]
    },
    {
      "cell_type": "code",
      "metadata": {
        "id": "k7OCIDoaCnw9",
        "colab_type": "code",
        "colab": {}
      },
      "source": [
        "class MyModel(tf.keras.models.Model):\n",
        "    def __init__(self, **kwargs):\n",
        "        super(MyModel, self).__init__(**kwargs)\n",
        "        self.hidden1 = tf.keras.layers.Dense(30, activation='relu')\n",
        "        self.hidden2 = tf.keras.layers.Dense(30, activation='relu')\n",
        "        self.concat = tf.keras.layers.Concatenate(axis=1)\n",
        "        self.outputs = tf.keras.layers.Dense(1)\n",
        "        \n",
        "    def call(self, input):\n",
        "        x = self.hidden1(input)\n",
        "        x = self.hidden2(x)\n",
        "        x = self.concat(axis=1)([input, x])\n",
        "        return self.outputs(x)\n",
        "        "
      ],
      "execution_count": 0,
      "outputs": []
    },
    {
      "cell_type": "code",
      "metadata": {
        "id": "EVm5-wT6GlM_",
        "colab_type": "code",
        "outputId": "ce18efdf-c73c-4353-bf4b-e63a60c3777b",
        "colab": {
          "base_uri": "https://localhost:8080/",
          "height": 354
        }
      },
      "source": [
        "model1 = MyModel()\n",
        "model.summary()"
      ],
      "execution_count": 0,
      "outputs": [
        {
          "output_type": "stream",
          "text": [
            "Model: \"model\"\n",
            "__________________________________________________________________________________________________\n",
            "Layer (type)                    Output Shape         Param #     Connected to                     \n",
            "==================================================================================================\n",
            "input_11 (InputLayer)           [(None, 8)]          0                                            \n",
            "__________________________________________________________________________________________________\n",
            "dense_27 (Dense)                (None, 30)           270         input_11[0][0]                   \n",
            "__________________________________________________________________________________________________\n",
            "dense_28 (Dense)                (None, 30)           930         dense_27[0][0]                   \n",
            "__________________________________________________________________________________________________\n",
            "concatenate_8 (Concatenate)     (None, 38)           0           input_11[0][0]                   \n",
            "                                                                 dense_28[0][0]                   \n",
            "__________________________________________________________________________________________________\n",
            "dense_29 (Dense)                (None, 1)            39          concatenate_8[0][0]              \n",
            "==================================================================================================\n",
            "Total params: 1,239\n",
            "Trainable params: 1,239\n",
            "Non-trainable params: 0\n",
            "__________________________________________________________________________________________________\n"
          ],
          "name": "stdout"
        }
      ]
    },
    {
      "cell_type": "code",
      "metadata": {
        "id": "DvByuuN4GpMx",
        "colab_type": "code",
        "colab": {}
      },
      "source": [
        "model1.compile(optimizer=tf.keras.optimizers.Adam(0.1), loss='mean_squared_error')"
      ],
      "execution_count": 0,
      "outputs": []
    },
    {
      "cell_type": "code",
      "metadata": {
        "id": "D1hLGu7RHKxF",
        "colab_type": "code",
        "outputId": "2d520cd4-259f-4813-9d99-d5ae1e21f8fc",
        "colab": {
          "base_uri": "https://localhost:8080/",
          "height": 745
        }
      },
      "source": [
        "history = model.fit(X_train, Y_train, epochs=20, validation_data=(X_val, Y_val))"
      ],
      "execution_count": 0,
      "outputs": [
        {
          "output_type": "stream",
          "text": [
            "Train on 11610 samples, validate on 3870 samples\n",
            "Epoch 1/20\n",
            "11610/11610 [==============================] - 0s 37us/sample - loss: 0.3129 - val_loss: 30029.5750\n",
            "Epoch 2/20\n",
            "11610/11610 [==============================] - 0s 37us/sample - loss: 0.3124 - val_loss: 27302.1298\n",
            "Epoch 3/20\n",
            "11610/11610 [==============================] - 0s 37us/sample - loss: 0.3130 - val_loss: 33128.6907\n",
            "Epoch 4/20\n",
            "11610/11610 [==============================] - 0s 36us/sample - loss: 0.3124 - val_loss: 30312.5101\n",
            "Epoch 5/20\n",
            "11610/11610 [==============================] - 0s 38us/sample - loss: 0.3116 - val_loss: 29377.6638\n",
            "Epoch 6/20\n",
            "11610/11610 [==============================] - 0s 37us/sample - loss: 0.3115 - val_loss: 28954.2183\n",
            "Epoch 7/20\n",
            "11610/11610 [==============================] - 0s 37us/sample - loss: 0.3110 - val_loss: 26030.6216\n",
            "Epoch 8/20\n",
            "11610/11610 [==============================] - 0s 36us/sample - loss: 0.3112 - val_loss: 30604.8349\n",
            "Epoch 9/20\n",
            "11610/11610 [==============================] - 0s 38us/sample - loss: 0.3106 - val_loss: 28396.6534\n",
            "Epoch 10/20\n",
            "11610/11610 [==============================] - 0s 37us/sample - loss: 0.3110 - val_loss: 26740.3666\n",
            "Epoch 11/20\n",
            "11610/11610 [==============================] - 0s 37us/sample - loss: 0.3099 - val_loss: 24422.6560\n",
            "Epoch 12/20\n",
            "11610/11610 [==============================] - 0s 37us/sample - loss: 0.3101 - val_loss: 25714.9720\n",
            "Epoch 13/20\n",
            "11610/11610 [==============================] - 0s 37us/sample - loss: 0.3101 - val_loss: 25546.3225\n",
            "Epoch 14/20\n",
            "11610/11610 [==============================] - 0s 37us/sample - loss: 0.3094 - val_loss: 26760.5092\n",
            "Epoch 15/20\n",
            "11610/11610 [==============================] - 0s 37us/sample - loss: 0.3100 - val_loss: 25399.4419\n",
            "Epoch 16/20\n",
            "11610/11610 [==============================] - 0s 37us/sample - loss: 0.3085 - val_loss: 27303.0847\n",
            "Epoch 17/20\n",
            "11610/11610 [==============================] - 0s 36us/sample - loss: 0.3087 - val_loss: 24499.9855\n",
            "Epoch 18/20\n",
            "11610/11610 [==============================] - 0s 38us/sample - loss: 0.3081 - val_loss: 26105.9574\n",
            "Epoch 19/20\n",
            "11610/11610 [==============================] - 0s 37us/sample - loss: 0.3105 - val_loss: 26059.9253\n",
            "Epoch 20/20\n",
            "11610/11610 [==============================] - 0s 37us/sample - loss: 0.3086 - val_loss: 24234.2166\n"
          ],
          "name": "stdout"
        }
      ]
    },
    {
      "cell_type": "code",
      "metadata": {
        "id": "0nPKigv-HfHH",
        "colab_type": "code",
        "outputId": "f2fd4e20-15a7-46ff-cf8a-14f25a4fd1ea",
        "colab": {
          "base_uri": "https://localhost:8080/",
          "height": 52
        }
      },
      "source": [
        "model.evaluate(X_test, Y_test)"
      ],
      "execution_count": 0,
      "outputs": [
        {
          "output_type": "stream",
          "text": [
            "5160/5160 [==============================] - 0s 20us/sample - loss: 0.3260\n"
          ],
          "name": "stdout"
        },
        {
          "output_type": "execute_result",
          "data": {
            "text/plain": [
              "0.32602607404538825"
            ]
          },
          "metadata": {
            "tags": []
          },
          "execution_count": 74
        }
      ]
    },
    {
      "cell_type": "code",
      "metadata": {
        "id": "_2w9egO9TOyJ",
        "colab_type": "code",
        "outputId": "35762bd5-dd76-48d3-c6b4-aba4a0386ca7",
        "colab": {
          "base_uri": "https://localhost:8080/",
          "height": 323
        }
      },
      "source": [
        "import pandas as pd\n",
        "import matplotlib.pyplot as plt\n",
        "\n",
        "pd.DataFrame(history.history).plot(figsize=(8, 5))\n",
        "plt.grid(True)\n",
        "plt.gca().set_ylim(0, 1)\n",
        "plt.show()"
      ],
      "execution_count": 0,
      "outputs": [
        {
          "output_type": "display_data",
          "data": {
            "image/png": "[encoded data removed]",
            "text/plain": [
              "<Figure size 576x360 with 1 Axes>"
            ]
          },
          "metadata": {
            "tags": []
          }
        }
      ]
    },
    {
      "cell_type": "code",
      "metadata": {
        "id": "CwXT7015XGMx",
        "colab_type": "code",
        "colab": {}
      },
      "source": [
        "import os\n",
        "\n",
        "log_dir = os.path.join(os.curdir, \"Samplelogs\")\n",
        "\n",
        "def get_log_dir():\n",
        "    import time\n",
        "    times = time.strftime(\"run_%Y_%m_%d-%H_%M_%S\")\n",
        "    return os.path.join(log_dir, times)"
      ],
      "execution_count": 0,
      "outputs": []
    },
    {
      "cell_type": "code",
      "metadata": {
        "id": "GJu3WMRehGk4",
        "colab_type": "code",
        "outputId": "97c13108-148f-42db-a4d4-8c3746d5aecc",
        "colab": {
          "base_uri": "https://localhost:8080/",
          "height": 745
        }
      },
      "source": [
        "event_dir = get_log_dir()\n",
        "tb_callback = tf.keras.callbacks.TensorBoard(event_dir)\n",
        "\n",
        "history = model.fit(X_train, Y_train, validation_data=(X_val, Y_val), epochs=20, callbacks=[tb_callback])"
      ],
      "execution_count": 0,
      "outputs": [
        {
          "output_type": "stream",
          "text": [
            "Train on 11610 samples, validate on 3870 samples\n",
            "Epoch 1/20\n",
            "11610/11610 [==============================] - 1s 46us/sample - loss: 0.3078 - val_loss: 24626.3002\n",
            "Epoch 2/20\n",
            "11610/11610 [==============================] - 1s 44us/sample - loss: 0.3072 - val_loss: 27169.2507\n",
            "Epoch 3/20\n",
            "11610/11610 [==============================] - 0s 43us/sample - loss: 0.3075 - val_loss: 24868.6192\n",
            "Epoch 4/20\n",
            "11610/11610 [==============================] - 1s 45us/sample - loss: 0.3069 - val_loss: 23068.6880\n",
            "Epoch 5/20\n",
            "11610/11610 [==============================] - 1s 47us/sample - loss: 0.3067 - val_loss: 24830.5081\n",
            "Epoch 6/20\n",
            "11610/11610 [==============================] - 1s 46us/sample - loss: 0.3065 - val_loss: 25137.2094\n",
            "Epoch 7/20\n",
            "11610/11610 [==============================] - 1s 45us/sample - loss: 0.3061 - val_loss: 25897.8877\n",
            "Epoch 8/20\n",
            "11610/11610 [==============================] - 1s 46us/sample - loss: 0.3066 - val_loss: 24050.0588\n",
            "Epoch 9/20\n",
            "11610/11610 [==============================] - 1s 46us/sample - loss: 0.3060 - val_loss: 21905.5265\n",
            "Epoch 10/20\n",
            "11610/11610 [==============================] - 1s 46us/sample - loss: 0.3053 - val_loss: 18237.9282\n",
            "Epoch 11/20\n",
            "11610/11610 [==============================] - 1s 45us/sample - loss: 0.3053 - val_loss: 26889.0307\n",
            "Epoch 12/20\n",
            "11610/11610 [==============================] - 1s 46us/sample - loss: 0.3059 - val_loss: 21054.5100\n",
            "Epoch 13/20\n",
            "11610/11610 [==============================] - 1s 46us/sample - loss: 0.3049 - val_loss: 23941.1957\n",
            "Epoch 14/20\n",
            "11610/11610 [==============================] - 0s 37us/sample - loss: 0.3046 - val_loss: 24177.0292\n",
            "Epoch 15/20\n",
            "11610/11610 [==============================] - 0s 37us/sample - loss: 0.3048 - val_loss: 19544.1341\n",
            "Epoch 16/20\n",
            "11610/11610 [==============================] - 0s 36us/sample - loss: 0.3056 - val_loss: 19331.6634\n",
            "Epoch 17/20\n",
            "11610/11610 [==============================] - 0s 38us/sample - loss: 0.3043 - val_loss: 23539.8984\n",
            "Epoch 18/20\n",
            "11610/11610 [==============================] - 0s 36us/sample - loss: 0.3042 - val_loss: 26273.3137\n",
            "Epoch 19/20\n",
            "11610/11610 [==============================] - 0s 38us/sample - loss: 0.3038 - val_loss: 20251.6082\n",
            "Epoch 20/20\n",
            "11610/11610 [==============================] - 0s 39us/sample - loss: 0.3042 - val_loss: 19627.9435\n"
          ],
          "name": "stdout"
        }
      ]
    },
    {
      "cell_type": "code",
      "metadata": {
        "id": "iYCh89BNhfbr",
        "colab_type": "code",
        "colab": {}
      },
      "source": [
        "def tb(logdir=log_dir, port=6006, open_tab=True, sleep=3):\n",
        "    import subprocess\n",
        "    proc = subprocess.Popen(\n",
        "        \"tensorboard --logdir={0} --port={1}\".format(logdir, port), shell=True)\n",
        "    if open_tab:\n",
        "        import time\n",
        "        print(\"Waiting a few seconds for the TensorBoard Server to start...\")\n",
        "        time.sleep(sleep)\n",
        "        import webbrowser\n",
        "        webbrowser.open(\"http://127.0.0.1:{}/\".format(port))\n",
        "    return proc"
      ],
      "execution_count": 0,
      "outputs": []
    },
    {
      "cell_type": "code",
      "metadata": {
        "id": "vVYQogIsicee",
        "colab_type": "code",
        "outputId": "27000799-34ec-4378-f6c9-3d5e6301c206",
        "colab": {
          "base_uri": "https://localhost:8080/",
          "height": 3803
        }
      },
      "source": [
        "help(tf.keras.callbacks.TensorBoard)"
      ],
      "execution_count": 0,
      "outputs": [
        {
          "output_type": "stream",
          "text": [
            "Help on class TensorBoard in module tensorflow.python.keras.callbacks:\n",
            "\n",
            "class TensorBoard(Callback)\n",
            " |  Enable visualizations for TensorBoard.\n",
            " |  \n",
            " |  TensorBoard is a visualization tool provided with TensorFlow.\n",
            " |  \n",
            " |  This callback logs events for TensorBoard, including:\n",
            " |  * Metrics summary plots\n",
            " |  * Training graph visualization\n",
            " |  * Activation histograms\n",
            " |  * Sampled profiling\n",
            " |  \n",
            " |  If you have installed TensorFlow with pip, you should be able\n",
            " |  to launch TensorBoard from the command line:\n",
            " |  \n",
            " |  ```sh\n",
            " |  tensorboard --logdir=path_to_your_logs\n",
            " |  ```\n",
            " |  \n",
            " |  You can find more information about TensorBoard\n",
            " |  [here](https://www.tensorflow.org/get_started/summaries_and_tensorboard).\n",
            " |  \n",
            " |  Arguments:\n",
            " |      log_dir: the path of the directory where to save the log files to be\n",
            " |        parsed by TensorBoard.\n",
            " |      histogram_freq: frequency (in epochs) at which to compute activation and\n",
            " |        weight histograms for the layers of the model. If set to 0, histograms\n",
            " |        won't be computed. Validation data (or split) must be specified for\n",
            " |        histogram visualizations.\n",
            " |      write_graph: whether to visualize the graph in TensorBoard. The log file\n",
            " |        can become quite large when write_graph is set to True.\n",
            " |      write_images: whether to write model weights to visualize as image in\n",
            " |        TensorBoard.\n",
            " |      update_freq: `'batch'` or `'epoch'` or integer. When using `'batch'`,\n",
            " |        writes the losses and metrics to TensorBoard after each batch. The same\n",
            " |        applies for `'epoch'`. If using an integer, let's say `1000`, the\n",
            " |        callback will write the metrics and losses to TensorBoard every 1000\n",
            " |        samples. Note that writing too frequently to TensorBoard can slow down\n",
            " |        your training.\n",
            " |      profile_batch: Profile the batch to sample compute characteristics. By\n",
            " |        default, it will profile the second batch. Set profile_batch=0 to\n",
            " |        disable profiling. Must run in TensorFlow eager mode.\n",
            " |  \n",
            " |  Raises:\n",
            " |      ValueError: If histogram_freq is set and no validation data is provided.\n",
            " |  \n",
            " |  Method resolution order:\n",
            " |      TensorBoard\n",
            " |      Callback\n",
            " |      builtins.object\n",
            " |  \n",
            " |  Methods defined here:\n",
            " |  \n",
            " |  __init__(self, log_dir='logs', histogram_freq=0, write_graph=True, write_images=False, update_freq='epoch', profile_batch=2, **kwargs)\n",
            " |      Initialize self.  See help(type(self)) for accurate signature.\n",
            " |  \n",
            " |  on_batch_end(self, batch, logs=None)\n",
            " |      Writes scalar summaries for metrics on every training batch.\n",
            " |      \n",
            " |      Performs profiling if current batch is in profiler_batches.\n",
            " |  \n",
            " |  on_epoch_end(self, epoch, logs=None)\n",
            " |      Runs metrics and histogram summaries at epoch end.\n",
            " |  \n",
            " |  on_train_begin(self, logs=None)\n",
            " |      Called at the beginning of training.\n",
            " |      \n",
            " |      Subclasses should override for any actions to run.\n",
            " |      \n",
            " |      Arguments:\n",
            " |          logs: dict. Currently no data is passed to this argument for this method\n",
            " |            but that may change in the future.\n",
            " |  \n",
            " |  on_train_end(self, logs=None)\n",
            " |      Called at the end of training.\n",
            " |      \n",
            " |      Subclasses should override for any actions to run.\n",
            " |      \n",
            " |      Arguments:\n",
            " |          logs: dict. Currently no data is passed to this argument for this method\n",
            " |            but that may change in the future.\n",
            " |  \n",
            " |  set_model(self, model)\n",
            " |      Sets Keras model and writes graph if specified.\n",
            " |  \n",
            " |  ----------------------------------------------------------------------\n",
            " |  Methods inherited from Callback:\n",
            " |  \n",
            " |  on_batch_begin(self, batch, logs=None)\n",
            " |      A backwards compatibility alias for `on_train_batch_begin`.\n",
            " |  \n",
            " |  on_epoch_begin(self, epoch, logs=None)\n",
            " |      Called at the start of an epoch.\n",
            " |      \n",
            " |      Subclasses should override for any actions to run. This function should only\n",
            " |      be called during TRAIN mode.\n",
            " |      \n",
            " |      Arguments:\n",
            " |          epoch: integer, index of epoch.\n",
            " |          logs: dict. Currently no data is passed to this argument for this method\n",
            " |            but that may change in the future.\n",
            " |  \n",
            " |  on_predict_batch_begin(self, batch, logs=None)\n",
            " |      Called at the beginning of a batch in `predict` methods.\n",
            " |      \n",
            " |      Subclasses should override for any actions to run.\n",
            " |      \n",
            " |      Arguments:\n",
            " |          batch: integer, index of batch within the current epoch.\n",
            " |          logs: dict. Has keys `batch` and `size` representing the current batch\n",
            " |            number and the size of the batch.\n",
            " |  \n",
            " |  on_predict_batch_end(self, batch, logs=None)\n",
            " |      Called at the end of a batch in `predict` methods.\n",
            " |      \n",
            " |      Subclasses should override for any actions to run.\n",
            " |      \n",
            " |      Arguments:\n",
            " |          batch: integer, index of batch within the current epoch.\n",
            " |          logs: dict. Metric results for this batch.\n",
            " |  \n",
            " |  on_predict_begin(self, logs=None)\n",
            " |      Called at the beginning of prediction.\n",
            " |      \n",
            " |      Subclasses should override for any actions to run.\n",
            " |      \n",
            " |      Arguments:\n",
            " |          logs: dict. Currently no data is passed to this argument for this method\n",
            " |            but that may change in the future.\n",
            " |  \n",
            " |  on_predict_end(self, logs=None)\n",
            " |      Called at the end of prediction.\n",
            " |      \n",
            " |      Subclasses should override for any actions to run.\n",
            " |      \n",
            " |      Arguments:\n",
            " |          logs: dict. Currently no data is passed to this argument for this method\n",
            " |            but that may change in the future.\n",
            " |  \n",
            " |  on_test_batch_begin(self, batch, logs=None)\n",
            " |      Called at the beginning of a batch in `evaluate` methods.\n",
            " |      \n",
            " |      Also called at the beginning of a validation batch in the `fit`\n",
            " |      methods, if validation data is provided.\n",
            " |      \n",
            " |      Subclasses should override for any actions to run.\n",
            " |      \n",
            " |      Arguments:\n",
            " |          batch: integer, index of batch within the current epoch.\n",
            " |          logs: dict. Has keys `batch` and `size` representing the current batch\n",
            " |            number and the size of the batch.\n",
            " |  \n",
            " |  on_test_batch_end(self, batch, logs=None)\n",
            " |      Called at the end of a batch in `evaluate` methods.\n",
            " |      \n",
            " |      Also called at the end of a validation batch in the `fit`\n",
            " |      methods, if validation data is provided.\n",
            " |      \n",
            " |      Subclasses should override for any actions to run.\n",
            " |      \n",
            " |      Arguments:\n",
            " |          batch: integer, index of batch within the current epoch.\n",
            " |          logs: dict. Metric results for this batch.\n",
            " |  \n",
            " |  on_test_begin(self, logs=None)\n",
            " |      Called at the beginning of evaluation or validation.\n",
            " |      \n",
            " |      Subclasses should override for any actions to run.\n",
            " |      \n",
            " |      Arguments:\n",
            " |          logs: dict. Currently no data is passed to this argument for this method\n",
            " |            but that may change in the future.\n",
            " |  \n",
            " |  on_test_end(self, logs=None)\n",
            " |      Called at the end of evaluation or validation.\n",
            " |      \n",
            " |      Subclasses should override for any actions to run.\n",
            " |      \n",
            " |      Arguments:\n",
            " |          logs: dict. Currently no data is passed to this argument for this method\n",
            " |            but that may change in the future.\n",
            " |  \n",
            " |  on_train_batch_begin(self, batch, logs=None)\n",
            " |      Called at the beginning of a training batch in `fit` methods.\n",
            " |      \n",
            " |      Subclasses should override for any actions to run.\n",
            " |      \n",
            " |      Arguments:\n",
            " |          batch: integer, index of batch within the current epoch.\n",
            " |          logs: dict. Has keys `batch` and `size` representing the current batch\n",
            " |            number and the size of the batch.\n",
            " |  \n",
            " |  on_train_batch_end(self, batch, logs=None)\n",
            " |      Called at the end of a training batch in `fit` methods.\n",
            " |      \n",
            " |      Subclasses should override for any actions to run.\n",
            " |      \n",
            " |      Arguments:\n",
            " |          batch: integer, index of batch within the current epoch.\n",
            " |          logs: dict. Metric results for this batch.\n",
            " |  \n",
            " |  set_params(self, params)\n",
            " |  \n",
            " |  ----------------------------------------------------------------------\n",
            " |  Data descriptors inherited from Callback:\n",
            " |  \n",
            " |  __dict__\n",
            " |      dictionary for instance variables (if defined)\n",
            " |  \n",
            " |  __weakref__\n",
            " |      list of weak references to the object (if defined)\n",
            "\n"
          ],
          "name": "stdout"
        }
      ]
    },
    {
      "cell_type": "markdown",
      "metadata": {
        "id": "-Hjt4sTaqSTH",
        "colab_type": "text"
      },
      "source": [
        "HyperParameter Tuning\n",
        "- Hyperopt: a popular Python library for optimizing over all sorts of complex\n",
        "search spaces (including real values such as the learning rate, or discrete values\n",
        "such as the number of layers).\n",
        "- Hyperas, kopt or Talos: optimizing hyperparameters for Keras model (the first\n",
        "two are based on Hyperopt).\n",
        "- Scikit-Optimize (skopt): a general-purpose optimization library. The Bayes\n",
        "SearchCV class performs Bayesian optimization using an interface similar to Grid\n",
        "SearchCV .\n",
        "- Spearmint: a Bayesian optimization library.\n",
        "- Sklearn-Deap: a hyperparameter optimization library based on evolutionary\n",
        "algorithms, also with a GridSearchCV -like interface."
      ]
    },
    {
      "cell_type": "code",
      "metadata": {
        "id": "f-uumutLj0Wo",
        "colab_type": "code",
        "colab": {}
      },
      "source": [
        "def build_model(n_hidden=1, n_neurons=30, learning_rate=3e-3, input_shape=[8]):\n",
        "    model = tf.keras.models.Sequential()\n",
        "    options = {\"input_shape\": input_shape}\n",
        "    for layer in range(n_hidden):\n",
        "        model.add(tf.keras.layers.Dense(n_neurons, activation=\"relu\", **options))\n",
        "        options = {}\n",
        "    model.add(tf.keras.layers.Dense(1, **options))\n",
        "    optimizer = tf.keras.optimizers.SGD(learning_rate)\n",
        "    model.compile(loss=\"mse\", optimizer=optimizer)\n",
        "    return model"
      ],
      "execution_count": 0,
      "outputs": []
    },
    {
      "cell_type": "code",
      "metadata": {
        "id": "MQZoDmB7qyfR",
        "colab_type": "code",
        "colab": {}
      },
      "source": [
        "keras_reg = tf.keras.wrappers.scikit_learn.KerasRegressor(build_model)"
      ],
      "execution_count": 0,
      "outputs": []
    },
    {
      "cell_type": "code",
      "metadata": {
        "id": "rfdHL-x9rE1c",
        "colab_type": "code",
        "outputId": "f62f9cd4-4ee1-412a-9ec8-30ea0be912df",
        "colab": {
          "base_uri": "https://localhost:8080/",
          "height": 3607
        }
      },
      "source": [
        "keras_reg.fit(X_train, Y_train, epochs=100, validation_data=(X_val, Y_val))"
      ],
      "execution_count": 0,
      "outputs": [
        {
          "output_type": "stream",
          "text": [
            "Train on 11610 samples, validate on 3870 samples\n",
            "Epoch 1/100\n",
            "11610/11610 [==============================] - 1s 51us/sample - loss: 1.1905 - val_loss: 22188.1083\n",
            "Epoch 2/100\n",
            "11610/11610 [==============================] - 1s 43us/sample - loss: 0.9192 - val_loss: 229160.0355\n",
            "Epoch 3/100\n",
            "11610/11610 [==============================] - 0s 42us/sample - loss: 0.5423 - val_loss: 109126.5876\n",
            "Epoch 4/100\n",
            "11610/11610 [==============================] - 0s 42us/sample - loss: 0.4955 - val_loss: 59602.6433\n",
            "Epoch 5/100\n",
            "11610/11610 [==============================] - 0s 42us/sample - loss: 0.4771 - val_loss: 51414.3624\n",
            "Epoch 6/100\n",
            "11610/11610 [==============================] - 0s 42us/sample - loss: 0.4602 - val_loss: 41412.2395\n",
            "Epoch 7/100\n",
            "11610/11610 [==============================] - 0s 42us/sample - loss: 0.4508 - val_loss: 53116.3814\n",
            "Epoch 8/100\n",
            "11610/11610 [==============================] - 0s 42us/sample - loss: 0.4444 - val_loss: 41733.9572\n",
            "Epoch 9/100\n",
            "11610/11610 [==============================] - 0s 41us/sample - loss: 0.4339 - val_loss: 48842.8379\n",
            "Epoch 10/100\n",
            "11610/11610 [==============================] - 0s 42us/sample - loss: 0.4272 - val_loss: 52302.7520\n",
            "Epoch 11/100\n",
            "11610/11610 [==============================] - 0s 38us/sample - loss: 0.4226 - val_loss: 46329.0479\n",
            "Epoch 12/100\n",
            "11610/11610 [==============================] - 0s 32us/sample - loss: 0.4173 - val_loss: 52719.6499\n",
            "Epoch 13/100\n",
            "11610/11610 [==============================] - 0s 32us/sample - loss: 0.4148 - val_loss: 39615.9418\n",
            "Epoch 14/100\n",
            "11610/11610 [==============================] - 0s 31us/sample - loss: 0.4105 - val_loss: 44659.4886\n",
            "Epoch 15/100\n",
            "11610/11610 [==============================] - 0s 32us/sample - loss: 0.4078 - val_loss: 43900.7518\n",
            "Epoch 16/100\n",
            "11610/11610 [==============================] - 0s 31us/sample - loss: 0.4049 - val_loss: 49579.2795\n",
            "Epoch 17/100\n",
            "11610/11610 [==============================] - 0s 31us/sample - loss: 0.4027 - val_loss: 37315.8565\n",
            "Epoch 18/100\n",
            "11610/11610 [==============================] - 0s 31us/sample - loss: 0.4004 - val_loss: 46364.4217\n",
            "Epoch 19/100\n",
            "11610/11610 [==============================] - 0s 31us/sample - loss: 0.3982 - val_loss: 45288.7416\n",
            "Epoch 20/100\n",
            "11610/11610 [==============================] - 0s 31us/sample - loss: 0.3962 - val_loss: 44168.7615\n",
            "Epoch 21/100\n",
            "11610/11610 [==============================] - 0s 32us/sample - loss: 0.3948 - val_loss: 41787.1750\n",
            "Epoch 22/100\n",
            "11610/11610 [==============================] - 0s 31us/sample - loss: 0.3924 - val_loss: 54299.0821\n",
            "Epoch 23/100\n",
            "11610/11610 [==============================] - 0s 31us/sample - loss: 0.3908 - val_loss: 37861.2568\n",
            "Epoch 24/100\n",
            "11610/11610 [==============================] - 0s 32us/sample - loss: 0.3891 - val_loss: 30778.4784\n",
            "Epoch 25/100\n",
            "11610/11610 [==============================] - 0s 31us/sample - loss: 0.3877 - val_loss: 33382.6925\n",
            "Epoch 26/100\n",
            "11610/11610 [==============================] - 0s 32us/sample - loss: 0.3857 - val_loss: 33448.5242\n",
            "Epoch 27/100\n",
            "11610/11610 [==============================] - 0s 31us/sample - loss: 0.3838 - val_loss: 39433.9755\n",
            "Epoch 28/100\n",
            "11610/11610 [==============================] - 0s 32us/sample - loss: 0.3831 - val_loss: 30406.0609\n",
            "Epoch 29/100\n",
            "11610/11610 [==============================] - 0s 32us/sample - loss: 0.3811 - val_loss: 22302.9523\n",
            "Epoch 30/100\n",
            "11610/11610 [==============================] - 0s 31us/sample - loss: 0.3797 - val_loss: 37817.8243\n",
            "Epoch 31/100\n",
            "11610/11610 [==============================] - 0s 31us/sample - loss: 0.3790 - val_loss: 28530.4016\n",
            "Epoch 32/100\n",
            "11610/11610 [==============================] - 0s 32us/sample - loss: 0.3790 - val_loss: 28844.6865\n",
            "Epoch 33/100\n",
            "11610/11610 [==============================] - 0s 31us/sample - loss: 0.3776 - val_loss: 25117.8496\n",
            "Epoch 34/100\n",
            "11610/11610 [==============================] - 0s 31us/sample - loss: 0.3757 - val_loss: 35330.4994\n",
            "Epoch 35/100\n",
            "11610/11610 [==============================] - 0s 32us/sample - loss: 0.3740 - val_loss: 28274.8817\n",
            "Epoch 36/100\n",
            "11610/11610 [==============================] - 0s 32us/sample - loss: 0.3731 - val_loss: 30049.9527\n",
            "Epoch 37/100\n",
            "11610/11610 [==============================] - 0s 31us/sample - loss: 0.3716 - val_loss: 34998.6108\n",
            "Epoch 38/100\n",
            "11610/11610 [==============================] - 0s 32us/sample - loss: 0.3706 - val_loss: 24876.5554\n",
            "Epoch 39/100\n",
            "11610/11610 [==============================] - 0s 31us/sample - loss: 0.3702 - val_loss: 29013.0484\n",
            "Epoch 40/100\n",
            "11610/11610 [==============================] - 0s 32us/sample - loss: 0.3718 - val_loss: 32230.3330\n",
            "Epoch 41/100\n",
            "11610/11610 [==============================] - 0s 31us/sample - loss: 0.3686 - val_loss: 33351.9843\n",
            "Epoch 42/100\n",
            "11610/11610 [==============================] - 0s 32us/sample - loss: 0.3683 - val_loss: 22464.4904\n",
            "Epoch 43/100\n",
            "11610/11610 [==============================] - 0s 32us/sample - loss: 0.3680 - val_loss: 26905.2810\n",
            "Epoch 44/100\n",
            "11610/11610 [==============================] - 0s 32us/sample - loss: 0.3681 - val_loss: 32358.1238\n",
            "Epoch 45/100\n",
            "11610/11610 [==============================] - 0s 32us/sample - loss: 0.3654 - val_loss: 33595.3403\n",
            "Epoch 46/100\n",
            "11610/11610 [==============================] - 0s 32us/sample - loss: 0.3638 - val_loss: 28367.9216\n",
            "Epoch 47/100\n",
            "11610/11610 [==============================] - 0s 32us/sample - loss: 0.3631 - val_loss: 23727.5305\n",
            "Epoch 48/100\n",
            "11610/11610 [==============================] - 0s 31us/sample - loss: 0.3620 - val_loss: 27342.8633\n",
            "Epoch 49/100\n",
            "11610/11610 [==============================] - 0s 32us/sample - loss: 0.3637 - val_loss: 25147.5812\n",
            "Epoch 50/100\n",
            "11610/11610 [==============================] - 0s 32us/sample - loss: 0.3615 - val_loss: 30040.2764\n",
            "Epoch 51/100\n",
            "11610/11610 [==============================] - 0s 32us/sample - loss: 0.3614 - val_loss: 24249.6297\n",
            "Epoch 52/100\n",
            "11610/11610 [==============================] - 0s 31us/sample - loss: 0.3586 - val_loss: 38353.0810\n",
            "Epoch 53/100\n",
            "11610/11610 [==============================] - 0s 31us/sample - loss: 0.3592 - val_loss: 19064.1297\n",
            "Epoch 54/100\n",
            "11610/11610 [==============================] - 0s 32us/sample - loss: 0.3573 - val_loss: 17285.6174\n",
            "Epoch 55/100\n",
            "11610/11610 [==============================] - 0s 31us/sample - loss: 0.3571 - val_loss: 21766.2808\n",
            "Epoch 56/100\n",
            "11610/11610 [==============================] - 0s 32us/sample - loss: 0.3566 - val_loss: 16852.4114\n",
            "Epoch 57/100\n",
            "11610/11610 [==============================] - 0s 32us/sample - loss: 0.3555 - val_loss: 23370.4195\n",
            "Epoch 58/100\n",
            "11610/11610 [==============================] - 0s 32us/sample - loss: 0.3545 - val_loss: 22237.4173\n",
            "Epoch 59/100\n",
            "11610/11610 [==============================] - 0s 31us/sample - loss: 0.3544 - val_loss: 19383.6785\n",
            "Epoch 60/100\n",
            "11610/11610 [==============================] - 0s 32us/sample - loss: 0.3542 - val_loss: 25439.3192\n",
            "Epoch 61/100\n",
            "11610/11610 [==============================] - 0s 31us/sample - loss: 0.3533 - val_loss: 21948.0493\n",
            "Epoch 62/100\n",
            "11610/11610 [==============================] - 0s 31us/sample - loss: 0.3528 - val_loss: 17102.8143\n",
            "Epoch 63/100\n",
            "11610/11610 [==============================] - 0s 31us/sample - loss: 0.3525 - val_loss: 20196.2047\n",
            "Epoch 64/100\n",
            "11610/11610 [==============================] - 0s 32us/sample - loss: 0.3537 - val_loss: 28569.0576\n",
            "Epoch 65/100\n",
            "11610/11610 [==============================] - 0s 32us/sample - loss: 0.3516 - val_loss: 19161.0470\n",
            "Epoch 66/100\n",
            "11610/11610 [==============================] - 0s 31us/sample - loss: 0.3502 - val_loss: 20886.9852\n",
            "Epoch 67/100\n",
            "11610/11610 [==============================] - 0s 32us/sample - loss: 0.3502 - val_loss: 20897.5643\n",
            "Epoch 68/100\n",
            "11610/11610 [==============================] - 0s 32us/sample - loss: 0.3500 - val_loss: 17664.5006\n",
            "Epoch 69/100\n",
            "11610/11610 [==============================] - 0s 31us/sample - loss: 0.3490 - val_loss: 16431.5058\n",
            "Epoch 70/100\n",
            "11610/11610 [==============================] - 0s 31us/sample - loss: 0.3497 - val_loss: 23617.6713\n",
            "Epoch 71/100\n",
            "11610/11610 [==============================] - 0s 32us/sample - loss: 0.3500 - val_loss: 24703.1793\n",
            "Epoch 72/100\n",
            "11610/11610 [==============================] - 0s 31us/sample - loss: 0.3488 - val_loss: 23565.2463\n",
            "Epoch 73/100\n",
            "11610/11610 [==============================] - 0s 31us/sample - loss: 0.3507 - val_loss: 17460.6480\n",
            "Epoch 74/100\n",
            "11610/11610 [==============================] - 0s 31us/sample - loss: 0.3478 - val_loss: 21953.6136\n",
            "Epoch 75/100\n",
            "11610/11610 [==============================] - 0s 32us/sample - loss: 0.3469 - val_loss: 21158.1971\n",
            "Epoch 76/100\n",
            "11610/11610 [==============================] - 0s 32us/sample - loss: 0.3460 - val_loss: 26332.5761\n",
            "Epoch 77/100\n",
            "11610/11610 [==============================] - 0s 31us/sample - loss: 0.3479 - val_loss: 19028.1643\n",
            "Epoch 78/100\n",
            "11610/11610 [==============================] - 0s 31us/sample - loss: 0.3459 - val_loss: 17391.8526\n",
            "Epoch 79/100\n",
            "11610/11610 [==============================] - 0s 32us/sample - loss: 0.3463 - val_loss: 25282.8484\n",
            "Epoch 80/100\n",
            "11610/11610 [==============================] - 0s 31us/sample - loss: 0.3453 - val_loss: 16703.5649\n",
            "Epoch 81/100\n",
            "11610/11610 [==============================] - 0s 31us/sample - loss: 0.3448 - val_loss: 19692.2775\n",
            "Epoch 82/100\n",
            "11610/11610 [==============================] - 0s 32us/sample - loss: 0.3439 - val_loss: 18702.2488\n",
            "Epoch 83/100\n",
            "11610/11610 [==============================] - 0s 31us/sample - loss: 0.3434 - val_loss: 21579.5169\n",
            "Epoch 84/100\n",
            "11610/11610 [==============================] - 0s 32us/sample - loss: 0.3441 - val_loss: 20162.0148\n",
            "Epoch 85/100\n",
            "11610/11610 [==============================] - 0s 32us/sample - loss: 0.3428 - val_loss: 19725.3520\n",
            "Epoch 86/100\n",
            "11610/11610 [==============================] - 0s 32us/sample - loss: 0.3439 - val_loss: 15260.0483\n",
            "Epoch 87/100\n",
            "11610/11610 [==============================] - 0s 32us/sample - loss: 0.3424 - val_loss: 21493.5844\n",
            "Epoch 88/100\n",
            "11610/11610 [==============================] - 0s 31us/sample - loss: 0.3426 - val_loss: 22472.1084\n",
            "Epoch 89/100\n",
            "11610/11610 [==============================] - 0s 31us/sample - loss: 0.3415 - val_loss: 20524.9860\n",
            "Epoch 90/100\n",
            "11610/11610 [==============================] - 0s 31us/sample - loss: 0.3423 - val_loss: 23739.2462\n",
            "Epoch 91/100\n",
            "11610/11610 [==============================] - 0s 31us/sample - loss: 0.3411 - val_loss: 29250.0724\n",
            "Epoch 92/100\n",
            "11610/11610 [==============================] - 0s 31us/sample - loss: 0.3419 - val_loss: 21495.0054\n",
            "Epoch 93/100\n",
            "11610/11610 [==============================] - 0s 32us/sample - loss: 0.3399 - val_loss: 22114.4750\n",
            "Epoch 94/100\n",
            "11610/11610 [==============================] - 0s 31us/sample - loss: 0.3402 - val_loss: 26927.3187\n",
            "Epoch 95/100\n",
            "11610/11610 [==============================] - 0s 31us/sample - loss: 0.3393 - val_loss: 21772.6825\n",
            "Epoch 96/100\n",
            "11610/11610 [==============================] - 0s 32us/sample - loss: 0.3391 - val_loss: 29627.6961\n",
            "Epoch 97/100\n",
            "11610/11610 [==============================] - 0s 31us/sample - loss: 0.3381 - val_loss: 20011.9391\n",
            "Epoch 98/100\n",
            "11610/11610 [==============================] - 0s 31us/sample - loss: 0.3392 - val_loss: 22721.0034\n",
            "Epoch 99/100\n",
            "11610/11610 [==============================] - 0s 32us/sample - loss: 0.3389 - val_loss: 20164.9513\n",
            "Epoch 100/100\n",
            "11610/11610 [==============================] - 0s 31us/sample - loss: 0.3370 - val_loss: 17014.7738\n"
          ],
          "name": "stdout"
        },
        {
          "output_type": "execute_result",
          "data": {
            "text/plain": [
              "<tensorflow.python.keras.callbacks.History at 0x7f67a37a6940>"
            ]
          },
          "metadata": {
            "tags": []
          },
          "execution_count": 93
        }
      ]
    },
    {
      "cell_type": "code",
      "metadata": {
        "id": "kjsS_4WIrMim",
        "colab_type": "code",
        "outputId": "b5c26fcb-e427-42dd-b0c6-326955c39f31",
        "colab": {
          "base_uri": "https://localhost:8080/",
          "height": 3021
        }
      },
      "source": [
        "from scipy.stats import reciprocal\n",
        "import numpy as np\n",
        "from sklearn.model_selection import RandomizedSearchCV\n",
        "\n",
        "param_distribs = {\n",
        "    \"n_hidden\": [0, 1, 2, 3],\n",
        "    \"n_neurons\": np.arange(1, 100),\n",
        "    \"learning_rate\": reciprocal(3e-4, 3e-2),\n",
        "}\n",
        "\n",
        "rnd_srch = RandomizedSearchCV(keras_reg, param_distribs, cv=3, n_iter=10, verbose=2)\n",
        "rnd_srch.fit(X_train, Y_train, validation_data=(X_val, Y_val))"
      ],
      "execution_count": 0,
      "outputs": [
        {
          "output_type": "stream",
          "text": [
            "Fitting 3 folds for each of 10 candidates, totalling 30 fits\n",
            "[CV] learning_rate=0.0004926210035629582, n_hidden=1, n_neurons=85 ...\n",
            "Train on 7740 samples, validate on 3870 samples\n"
          ],
          "name": "stdout"
        },
        {
          "output_type": "stream",
          "text": [
            "[Parallel(n_jobs=1)]: Using backend SequentialBackend with 1 concurrent workers.\n"
          ],
          "name": "stderr"
        },
        {
          "output_type": "stream",
          "text": [
            "7740/7740 [==============================] - 0s 60us/sample - loss: 3.7693 - val_loss: 214601.7855\n",
            "3870/3870 [==============================] - 0s 22us/sample - loss: 1.9700\n",
            "[CV]  learning_rate=0.0004926210035629582, n_hidden=1, n_neurons=85, total=   0.9s\n",
            "[CV] learning_rate=0.0004926210035629582, n_hidden=1, n_neurons=85 ...\n",
            "Train on 7740 samples, validate on 3870 samples\n"
          ],
          "name": "stdout"
        },
        {
          "output_type": "stream",
          "text": [
            "[Parallel(n_jobs=1)]: Done   1 out of   1 | elapsed:    0.9s remaining:    0.0s\n"
          ],
          "name": "stderr"
        },
        {
          "output_type": "stream",
          "text": [
            "7740/7740 [==============================] - 0s 60us/sample - loss: 3.6374 - val_loss: 163940.9959\n",
            "3870/3870 [==============================] - 0s 22us/sample - loss: 2.0009\n",
            "[CV]  learning_rate=0.0004926210035629582, n_hidden=1, n_neurons=85, total=   1.0s\n",
            "[CV] learning_rate=0.0004926210035629582, n_hidden=1, n_neurons=85 ...\n",
            "Train on 7740 samples, validate on 3870 samples\n",
            "7740/7740 [==============================] - 0s 60us/sample - loss: 3.1686 - val_loss: 591042.9448\n",
            "3870/3870 [==============================] - 0s 23us/sample - loss: 2.1903\n",
            "[CV]  learning_rate=0.0004926210035629582, n_hidden=1, n_neurons=85, total=   0.9s\n",
            "[CV] learning_rate=0.005915232327224446, n_hidden=3, n_neurons=65 ....\n",
            "Train on 7740 samples, validate on 3870 samples\n",
            "7740/7740 [==============================] - 1s 71us/sample - loss: 0.9888 - val_loss: 663.8837\n",
            "3870/3870 [==============================] - 0s 22us/sample - loss: 0.5574\n",
            "[CV]  learning_rate=0.005915232327224446, n_hidden=3, n_neurons=65, total=   1.0s\n",
            "[CV] learning_rate=0.005915232327224446, n_hidden=3, n_neurons=65 ....\n",
            "Train on 7740 samples, validate on 3870 samples\n",
            "7740/7740 [==============================] - 1s 77us/sample - loss: 0.9593 - val_loss: 61397.9896\n",
            "3870/3870 [==============================] - 0s 20us/sample - loss: 0.6924\n",
            "[CV]  learning_rate=0.005915232327224446, n_hidden=3, n_neurons=65, total=   1.0s\n",
            "[CV] learning_rate=0.005915232327224446, n_hidden=3, n_neurons=65 ....\n",
            "Train on 7740 samples, validate on 3870 samples\n",
            "7740/7740 [==============================] - 0s 57us/sample - loss: 1.1258 - val_loss: 18163.0351\n",
            "3870/3870 [==============================] - 0s 20us/sample - loss: 0.5740\n",
            "[CV]  learning_rate=0.005915232327224446, n_hidden=3, n_neurons=65, total=   0.8s\n",
            "[CV] learning_rate=0.0009270932615340971, n_hidden=1, n_neurons=16 ...\n",
            "Train on 7740 samples, validate on 3870 samples\n",
            "7740/7740 [==============================] - 0s 46us/sample - loss: 2.6525 - val_loss: 51775.1853\n",
            "3870/3870 [==============================] - 0s 17us/sample - loss: 1.0974\n",
            "[CV]  learning_rate=0.0009270932615340971, n_hidden=1, n_neurons=16, total=   0.7s\n",
            "[CV] learning_rate=0.0009270932615340971, n_hidden=1, n_neurons=16 ...\n",
            "Train on 7740 samples, validate on 3870 samples\n",
            "7740/7740 [==============================] - 0s 46us/sample - loss: 2.0465 - val_loss: 1154177.9724\n",
            "3870/3870 [==============================] - 0s 17us/sample - loss: 1.5460\n",
            "[CV]  learning_rate=0.0009270932615340971, n_hidden=1, n_neurons=16, total=   0.7s\n",
            "[CV] learning_rate=0.0009270932615340971, n_hidden=1, n_neurons=16 ...\n",
            "Train on 7740 samples, validate on 3870 samples\n",
            "7740/7740 [==============================] - 0s 46us/sample - loss: 3.9605 - val_loss: 31618.6204\n",
            "3870/3870 [==============================] - 0s 18us/sample - loss: 1.9910\n",
            "[CV]  learning_rate=0.0009270932615340971, n_hidden=1, n_neurons=16, total=   0.8s\n",
            "[CV] learning_rate=0.002449572492713086, n_hidden=3, n_neurons=76 ....\n",
            "Train on 7740 samples, validate on 3870 samples\n",
            "7740/7740 [==============================] - 0s 56us/sample - loss: 2.2115 - val_loss: 10126.6635\n",
            "3870/3870 [==============================] - 0s 20us/sample - loss: 0.7510\n",
            "[CV]  learning_rate=0.002449572492713086, n_hidden=3, n_neurons=76, total=   0.8s\n",
            "[CV] learning_rate=0.002449572492713086, n_hidden=3, n_neurons=76 ....\n",
            "Train on 7740 samples, validate on 3870 samples\n",
            "7740/7740 [==============================] - 0s 57us/sample - loss: 1.2664 - val_loss: 114934.5486\n",
            "3870/3870 [==============================] - 0s 20us/sample - loss: 0.6439\n",
            "[CV]  learning_rate=0.002449572492713086, n_hidden=3, n_neurons=76, total=   0.8s\n",
            "[CV] learning_rate=0.002449572492713086, n_hidden=3, n_neurons=76 ....\n",
            "Train on 7740 samples, validate on 3870 samples\n",
            "7740/7740 [==============================] - 1s 67us/sample - loss: 1.3848 - val_loss: 1935.7875\n",
            "3870/3870 [==============================] - 0s 25us/sample - loss: 0.8232\n",
            "[CV]  learning_rate=0.002449572492713086, n_hidden=3, n_neurons=76, total=   0.9s\n",
            "[CV] learning_rate=0.000509293557801316, n_hidden=3, n_neurons=28 ....\n",
            "Train on 7740 samples, validate on 3870 samples\n",
            "7740/7740 [==============================] - 1s 69us/sample - loss: 3.7209 - val_loss: 189407.5245\n",
            "3870/3870 [==============================] - 0s 27us/sample - loss: 1.9838\n",
            "[CV]  learning_rate=0.000509293557801316, n_hidden=3, n_neurons=28, total=   1.2s\n",
            "[CV] learning_rate=0.000509293557801316, n_hidden=3, n_neurons=28 ....\n",
            "Train on 7740 samples, validate on 3870 samples\n",
            "7740/7740 [==============================] - 1s 68us/sample - loss: 3.0707 - val_loss: 73462.6506\n",
            "3870/3870 [==============================] - 0s 26us/sample - loss: 1.8363\n",
            "[CV]  learning_rate=0.000509293557801316, n_hidden=3, n_neurons=28, total=   1.0s\n",
            "[CV] learning_rate=0.000509293557801316, n_hidden=3, n_neurons=28 ....\n",
            "Train on 7740 samples, validate on 3870 samples\n",
            "7740/7740 [==============================] - 1s 68us/sample - loss: 3.4564 - val_loss: 181528.3006\n",
            "3870/3870 [==============================] - 0s 23us/sample - loss: 2.1594\n",
            "[CV]  learning_rate=0.000509293557801316, n_hidden=3, n_neurons=28, total=   1.0s\n",
            "[CV] learning_rate=0.0019771459930714667, n_hidden=2, n_neurons=80 ...\n",
            "Train on 7740 samples, validate on 3870 samples\n",
            "7740/7740 [==============================] - 1s 69us/sample - loss: 1.5577 - val_loss: 244813.0349\n",
            "3870/3870 [==============================] - 0s 24us/sample - loss: 0.6920\n",
            "[CV]  learning_rate=0.0019771459930714667, n_hidden=2, n_neurons=80, total=   1.0s\n",
            "[CV] learning_rate=0.0019771459930714667, n_hidden=2, n_neurons=80 ...\n",
            "Train on 7740 samples, validate on 3870 samples\n",
            "7740/7740 [==============================] - 1s 83us/sample - loss: 1.4584 - val_loss: 446224.5706\n",
            "3870/3870 [==============================] - 0s 19us/sample - loss: 0.9038\n",
            "[CV]  learning_rate=0.0019771459930714667, n_hidden=2, n_neurons=80, total=   1.1s\n",
            "[CV] learning_rate=0.0019771459930714667, n_hidden=2, n_neurons=80 ...\n",
            "Train on 7740 samples, validate on 3870 samples\n",
            "7740/7740 [==============================] - 0s 52us/sample - loss: 1.4004 - val_loss: 368345.9673\n",
            "3870/3870 [==============================] - 0s 18us/sample - loss: 0.7041\n",
            "[CV]  learning_rate=0.0019771459930714667, n_hidden=2, n_neurons=80, total=   0.8s\n",
            "[CV] learning_rate=0.002653546960530046, n_hidden=1, n_neurons=89 ....\n",
            "Train on 7740 samples, validate on 3870 samples\n",
            "7740/7740 [==============================] - 0s 47us/sample - loss: 1.7175 - val_loss: 44368.4375\n",
            "3870/3870 [==============================] - 0s 17us/sample - loss: 0.7918\n",
            "[CV]  learning_rate=0.002653546960530046, n_hidden=1, n_neurons=89, total=   0.7s\n",
            "[CV] learning_rate=0.002653546960530046, n_hidden=1, n_neurons=89 ....\n",
            "Train on 7740 samples, validate on 3870 samples\n",
            "7740/7740 [==============================] - 0s 48us/sample - loss: 1.5158 - val_loss: 299771.4974\n",
            "3870/3870 [==============================] - 0s 17us/sample - loss: 1.2119\n",
            "[CV]  learning_rate=0.002653546960530046, n_hidden=1, n_neurons=89, total=   0.7s\n",
            "[CV] learning_rate=0.002653546960530046, n_hidden=1, n_neurons=89 ....\n",
            "Train on 7740 samples, validate on 3870 samples\n",
            "7740/7740 [==============================] - 0s 47us/sample - loss: 1.4785 - val_loss: 87101.3330\n",
            "3870/3870 [==============================] - 0s 17us/sample - loss: 0.6616\n",
            "[CV]  learning_rate=0.002653546960530046, n_hidden=1, n_neurons=89, total=   0.7s\n",
            "[CV] learning_rate=0.0025860412585500146, n_hidden=0, n_neurons=72 ...\n",
            "Train on 7740 samples, validate on 3870 samples\n",
            "7740/7740 [==============================] - 0s 43us/sample - loss: 3.0190 - val_loss: 26953.8664\n",
            "3870/3870 [==============================] - 0s 17us/sample - loss: 0.9865\n",
            "[CV]  learning_rate=0.0025860412585500146, n_hidden=0, n_neurons=72, total=   0.6s\n",
            "[CV] learning_rate=0.0025860412585500146, n_hidden=0, n_neurons=72 ...\n",
            "Train on 7740 samples, validate on 3870 samples\n",
            "7740/7740 [==============================] - 1s 72us/sample - loss: 2.5315 - val_loss: 85097.7882\n",
            "3870/3870 [==============================] - 0s 16us/sample - loss: 2.1898\n",
            "[CV]  learning_rate=0.0025860412585500146, n_hidden=0, n_neurons=72, total=   0.8s\n",
            "[CV] learning_rate=0.0025860412585500146, n_hidden=0, n_neurons=72 ...\n",
            "Train on 7740 samples, validate on 3870 samples\n",
            "7740/7740 [==============================] - 0s 44us/sample - loss: 3.3035 - val_loss: 21432.5924\n",
            "3870/3870 [==============================] - 0s 18us/sample - loss: 1.1585\n",
            "[CV]  learning_rate=0.0025860412585500146, n_hidden=0, n_neurons=72, total=   0.6s\n",
            "[CV] learning_rate=0.004885356150379457, n_hidden=0, n_neurons=85 ....\n",
            "Train on 7740 samples, validate on 3870 samples\n",
            "7740/7740 [==============================] - 0s 44us/sample - loss: 1.9042 - val_loss: 21229.4938\n",
            "3870/3870 [==============================] - 0s 16us/sample - loss: 0.7602\n",
            "[CV]  learning_rate=0.004885356150379457, n_hidden=0, n_neurons=85, total=   0.6s\n",
            "[CV] learning_rate=0.004885356150379457, n_hidden=0, n_neurons=85 ....\n",
            "Train on 7740 samples, validate on 3870 samples\n",
            "7740/7740 [==============================] - 0s 44us/sample - loss: 1.9829 - val_loss: 17856.0433\n",
            "3870/3870 [==============================] - 0s 15us/sample - loss: 1.6054\n",
            "[CV]  learning_rate=0.004885356150379457, n_hidden=0, n_neurons=85, total=   0.6s\n",
            "[CV] learning_rate=0.004885356150379457, n_hidden=0, n_neurons=85 ....\n",
            "Train on 7740 samples, validate on 3870 samples\n",
            "7740/7740 [==============================] - 0s 43us/sample - loss: 2.2694 - val_loss: 4007.3376\n",
            "3870/3870 [==============================] - 0s 16us/sample - loss: 0.8043\n",
            "[CV]  learning_rate=0.004885356150379457, n_hidden=0, n_neurons=85, total=   0.6s\n",
            "[CV] learning_rate=0.02234196348772313, n_hidden=3, n_neurons=31 .....\n",
            "Train on 7740 samples, validate on 3870 samples\n",
            "7740/7740 [==============================] - 0s 53us/sample - loss: 1.5988 - val_loss: 1066.7622\n",
            "3870/3870 [==============================] - 0s 18us/sample - loss: 0.3890\n",
            "[CV]  learning_rate=0.02234196348772313, n_hidden=3, n_neurons=31, total=   0.8s\n",
            "[CV] learning_rate=0.02234196348772313, n_hidden=3, n_neurons=31 .....\n",
            "Train on 7740 samples, validate on 3870 samples\n",
            "7740/7740 [==============================] - 0s 54us/sample - loss: 0.6886 - val_loss: 15666.2890\n",
            "3870/3870 [==============================] - 0s 18us/sample - loss: 0.5376\n",
            "[CV]  learning_rate=0.02234196348772313, n_hidden=3, n_neurons=31, total=   0.8s\n",
            "[CV] learning_rate=0.02234196348772313, n_hidden=3, n_neurons=31 .....\n",
            "Train on 7740 samples, validate on 3870 samples\n",
            "7740/7740 [==============================] - 0s 55us/sample - loss: 0.6565 - val_loss: 75051.2388\n",
            "3870/3870 [==============================] - 0s 18us/sample - loss: 0.4529\n",
            "[CV]  learning_rate=0.02234196348772313, n_hidden=3, n_neurons=31, total=   1.1s\n",
            "Train on 11610 samples, validate on 3870 samples\n"
          ],
          "name": "stdout"
        },
        {
          "output_type": "stream",
          "text": [
            "[Parallel(n_jobs=1)]: Done  30 out of  30 | elapsed:   25.1s finished\n"
          ],
          "name": "stderr"
        },
        {
          "output_type": "stream",
          "text": [
            "11610/11610 [==============================] - 1s 45us/sample - loss: 0.6788 - val_loss: 114015.1099\n"
          ],
          "name": "stdout"
        },
        {
          "output_type": "execute_result",
          "data": {
            "text/plain": [
              "RandomizedSearchCV(cv=3, error_score='raise-deprecating',\n",
              "                   estimator=<tensorflow.python.keras.wrappers.scikit_learn.KerasRegressor object at 0x7f67a3754128>,\n",
              "                   iid='warn', n_iter=10, n_jobs=None,\n",
              "                   param_distributions={'learning_rate': <scipy.stats._distn_infrastructure.rv_frozen object at 0x7f67b3542518>,\n",
              "                                        'n_hidden': [0, 1, 2, 3],\n",
              "                                        'n_neurons': array([ 1,  2,  3,  4,  5,  6,  7,  8,  9, 10,...\n",
              "       18, 19, 20, 21, 22, 23, 24, 25, 26, 27, 28, 29, 30, 31, 32, 33, 34,\n",
              "       35, 36, 37, 38, 39, 40, 41, 42, 43, 44, 45, 46, 47, 48, 49, 50, 51,\n",
              "       52, 53, 54, 55, 56, 57, 58, 59, 60, 61, 62, 63, 64, 65, 66, 67, 68,\n",
              "       69, 70, 71, 72, 73, 74, 75, 76, 77, 78, 79, 80, 81, 82, 83, 84, 85,\n",
              "       86, 87, 88, 89, 90, 91, 92, 93, 94, 95, 96, 97, 98, 99])},\n",
              "                   pre_dispatch='2*n_jobs', random_state=None, refit=True,\n",
              "                   return_train_score=False, scoring=None, verbose=2)"
            ]
          },
          "metadata": {
            "tags": []
          },
          "execution_count": 100
        }
      ]
    },
    {
      "cell_type": "markdown",
      "metadata": {
        "id": "f24z-eMg5vU2",
        "colab_type": "text"
      },
      "source": [
        "### Monte Carlo Dropout\n",
        "- “Dropout as a Bayesian Approximation: Representing Model Uncertainty in Deep Learning,” Y. Gal and Z.\n",
        "Ghahramani (2016)."
      ]
    },
    {
      "cell_type": "code",
      "metadata": {
        "id": "eYxZtlWmtoBb",
        "colab_type": "code",
        "colab": {}
      },
      "source": [
        "with tf.keras.backend.learning_phase_scope(1):\n",
        "    y_probas = np.stack([model.predict(X_test) for sample in range(100)])\n",
        "y_proba = y_probas.mean(axis=0)"
      ],
      "execution_count": 0,
      "outputs": []
    }
  ]
}