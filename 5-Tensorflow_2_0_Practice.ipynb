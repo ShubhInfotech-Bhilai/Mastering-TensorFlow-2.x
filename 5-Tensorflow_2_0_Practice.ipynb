{
  "nbformat": 4,
  "nbformat_minor": 0,
  "metadata": {
    "colab": {
      "name": "Tensorflow 2.0 Practice",
      "version": "0.3.2",
      "provenance": [],
      "collapsed_sections": []
    },
    "kernelspec": {
      "name": "python3",
      "display_name": "Python 3"
    },
    "accelerator": "GPU"
  },
  "cells": [
    {
      "cell_type": "code",
      "metadata": {
        "id": "mFfbyRVDnUf4",
        "colab_type": "code",
        "colab": {
          "base_uri": "https://localhost:8080/",
          "height": 34
        },
        "outputId": "a47cb861-1902-4772-dfe0-64e5bf547fc6"
      },
      "source": [
        "! pip -q install tensorflow==2.0.0.alpha0\n",
        "import tensorflow as tf\n",
        "print(tf.__version__)"
      ],
      "execution_count": 1,
      "outputs": [
        {
          "output_type": "stream",
          "text": [
            "2.0.0-alpha0\n"
          ],
          "name": "stdout"
        }
      ]
    },
    {
      "cell_type": "code",
      "metadata": {
        "id": "dMsVjQT0nqM7",
        "colab_type": "code",
        "colab": {}
      },
      "source": [
        "from sklearn.datasets import fetch_california_housing\n",
        "from sklearn.model_selection import train_test_split\n",
        "from sklearn.preprocessing import StandardScaler"
      ],
      "execution_count": 0,
      "outputs": []
    },
    {
      "cell_type": "code",
      "metadata": {
        "id": "yzhuJhiSTl5W",
        "colab_type": "code",
        "colab": {}
      },
      "source": [
        "import pandas as pd\n",
        "\n",
        "pd.DataFrame(history.history).plot(figsize=(8, 5))\n",
        "plt.grid(True)\n",
        "plt.gca().set_ylim(0, 1)\n",
        "save_fig(\"keras_learning_curves_plot\")\n",
        "plt.show()"
      ],
      "execution_count": 0,
      "outputs": []
    },
    {
      "cell_type": "code",
      "metadata": {
        "id": "6Bfmho1W2uqv",
        "colab_type": "code",
        "colab": {
          "base_uri": "https://localhost:8080/",
          "height": 90
        },
        "outputId": "7426dcf8-a153-48cd-eb6b-62cba48e24e6"
      },
      "source": [
        "data = fetch_california_housing()\n",
        "\n",
        "X_train_full, X_test, Y_train_full, Y_test = train_test_split(data.data, data.target)\n",
        "\n",
        "X_train, X_val, Y_train, Y_val = train_test_split(X_train_full, Y_train_full)"
      ],
      "execution_count": 3,
      "outputs": [
        {
          "output_type": "stream",
          "text": [
            "Downloading Cal. housing from https://ndownloader.figshare.com/files/5976036 to /root/scikit_learn_data\n",
            "WARNING: Logging before flag parsing goes to stderr.\n",
            "I0525 12:00:35.100299 140084428412800 california_housing.py:114] Downloading Cal. housing from https://ndownloader.figshare.com/files/5976036 to /root/scikit_learn_data\n"
          ],
          "name": "stderr"
        }
      ]
    },
    {
      "cell_type": "code",
      "metadata": {
        "id": "xQuOK9W48AXE",
        "colab_type": "code",
        "colab": {}
      },
      "source": [
        "scaler = StandardScaler()\n",
        "\n",
        "X_train = scaler.fit_transform(X_train)\n",
        "X_test = scaler.transform(X_test)\n",
        "X_val = scaler.transform(X_val)"
      ],
      "execution_count": 0,
      "outputs": []
    },
    {
      "cell_type": "code",
      "metadata": {
        "id": "Xp-IyXWe3TGU",
        "colab_type": "code",
        "colab": {}
      },
      "source": [
        "input = tf.keras.layers.Input(shape=X_train.shape[1:])\n",
        "layer1 = tf.keras.layers.Dense(30, activation='relu')(input)\n",
        "layer2 = tf.keras.layers.Dense(30, activation='relu')(layer1)\n",
        "wide = tf.keras.layers.Concatenate(axis=1)([input, layer2])\n",
        "outputs = tf.keras.layers.Dense(1)(wide)\n",
        "model = tf.keras.models.Model(inputs=[input], outputs=[outputs])"
      ],
      "execution_count": 0,
      "outputs": []
    },
    {
      "cell_type": "code",
      "metadata": {
        "id": "J_IIiTd4_7L2",
        "colab_type": "code",
        "colab": {
          "base_uri": "https://localhost:8080/",
          "height": 354
        },
        "outputId": "ad240aa7-5226-4d39-d2b5-a660b6f8ded2"
      },
      "source": [
        "model.summary()"
      ],
      "execution_count": 22,
      "outputs": [
        {
          "output_type": "stream",
          "text": [
            "Model: \"model\"\n",
            "__________________________________________________________________________________________________\n",
            "Layer (type)                    Output Shape         Param #     Connected to                     \n",
            "==================================================================================================\n",
            "input_11 (InputLayer)           [(None, 8)]          0                                            \n",
            "__________________________________________________________________________________________________\n",
            "dense_27 (Dense)                (None, 30)           270         input_11[0][0]                   \n",
            "__________________________________________________________________________________________________\n",
            "dense_28 (Dense)                (None, 30)           930         dense_27[0][0]                   \n",
            "__________________________________________________________________________________________________\n",
            "concatenate_8 (Concatenate)     (None, 38)           0           input_11[0][0]                   \n",
            "                                                                 dense_28[0][0]                   \n",
            "__________________________________________________________________________________________________\n",
            "dense_29 (Dense)                (None, 1)            39          concatenate_8[0][0]              \n",
            "==================================================================================================\n",
            "Total params: 1,239\n",
            "Trainable params: 1,239\n",
            "Non-trainable params: 0\n",
            "__________________________________________________________________________________________________\n"
          ],
          "name": "stdout"
        }
      ]
    },
    {
      "cell_type": "code",
      "metadata": {
        "id": "j5ynMSp289KT",
        "colab_type": "code",
        "colab": {}
      },
      "source": [
        "model.compile(optimizer='sgd', loss='mean_squared_error')"
      ],
      "execution_count": 0,
      "outputs": []
    },
    {
      "cell_type": "code",
      "metadata": {
        "id": "kpTWvqSd__p1",
        "colab_type": "code",
        "colab": {
          "base_uri": "https://localhost:8080/",
          "height": 763
        },
        "outputId": "4cb4a85f-818b-4004-dd9b-bb697e8a535f"
      },
      "source": [
        "from tensorflow.keras.callbacks import History\n",
        "history = History()\n",
        "model.fit(X_train, Y_train, batch_size=32, epochs=20, validation_data=(X_val, Y_val))"
      ],
      "execution_count": 46,
      "outputs": [
        {
          "output_type": "stream",
          "text": [
            "Train on 11610 samples, validate on 3870 samples\n",
            "Epoch 1/20\n",
            "11610/11610 [==============================] - 0s 38us/sample - loss: 0.3534 - val_loss: 32841.4460\n",
            "Epoch 2/20\n",
            "11610/11610 [==============================] - 0s 37us/sample - loss: 0.3523 - val_loss: 33229.2370\n",
            "Epoch 3/20\n",
            "11610/11610 [==============================] - 0s 39us/sample - loss: 0.3515 - val_loss: 31417.9914\n",
            "Epoch 4/20\n",
            "11610/11610 [==============================] - 0s 37us/sample - loss: 0.3502 - val_loss: 32312.9589\n",
            "Epoch 5/20\n",
            "11610/11610 [==============================] - 0s 37us/sample - loss: 0.3491 - val_loss: 29577.3071\n",
            "Epoch 6/20\n",
            "11610/11610 [==============================] - 0s 36us/sample - loss: 0.3483 - val_loss: 30245.3324\n",
            "Epoch 7/20\n",
            "11610/11610 [==============================] - 0s 33us/sample - loss: 0.3472 - val_loss: 28715.9254\n",
            "Epoch 8/20\n",
            "11610/11610 [==============================] - 0s 33us/sample - loss: 0.3463 - val_loss: 27695.1289\n",
            "Epoch 9/20\n",
            "11610/11610 [==============================] - 0s 32us/sample - loss: 0.3455 - val_loss: 30120.7765\n",
            "Epoch 10/20\n",
            "11610/11610 [==============================] - 0s 34us/sample - loss: 0.3445 - val_loss: 32149.6290\n",
            "Epoch 11/20\n",
            "11610/11610 [==============================] - 0s 33us/sample - loss: 0.3438 - val_loss: 28077.9269\n",
            "Epoch 12/20\n",
            "11610/11610 [==============================] - 0s 34us/sample - loss: 0.3427 - val_loss: 28851.3754\n",
            "Epoch 13/20\n",
            "11610/11610 [==============================] - 0s 33us/sample - loss: 0.3420 - val_loss: 28141.0168\n",
            "Epoch 14/20\n",
            "11610/11610 [==============================] - 0s 32us/sample - loss: 0.3409 - val_loss: 26178.4014\n",
            "Epoch 15/20\n",
            "11610/11610 [==============================] - 0s 34us/sample - loss: 0.3402 - val_loss: 26558.8249\n",
            "Epoch 16/20\n",
            "11610/11610 [==============================] - 0s 32us/sample - loss: 0.3394 - val_loss: 24933.1358\n",
            "Epoch 17/20\n",
            "11610/11610 [==============================] - 0s 32us/sample - loss: 0.3389 - val_loss: 26964.9104\n",
            "Epoch 18/20\n",
            "11610/11610 [==============================] - 0s 33us/sample - loss: 0.3381 - val_loss: 30449.0199\n",
            "Epoch 19/20\n",
            "11610/11610 [==============================] - 0s 33us/sample - loss: 0.3375 - val_loss: 23217.2626\n",
            "Epoch 20/20\n",
            "11610/11610 [==============================] - 0s 34us/sample - loss: 0.3368 - val_loss: 26892.6884\n"
          ],
          "name": "stdout"
        },
        {
          "output_type": "execute_result",
          "data": {
            "text/plain": [
              "<tensorflow.python.keras.callbacks.History at 0x7f67aa8c1390>"
            ]
          },
          "metadata": {
            "tags": []
          },
          "execution_count": 46
        }
      ]
    },
    {
      "cell_type": "code",
      "metadata": {
        "id": "W52UNpOTAP6l",
        "colab_type": "code",
        "colab": {
          "base_uri": "https://localhost:8080/",
          "height": 52
        },
        "outputId": "90607881-0799-46d1-e223-a44be0dd2c80"
      },
      "source": [
        "model.evaluate(X_test, Y_test)"
      ],
      "execution_count": 47,
      "outputs": [
        {
          "output_type": "stream",
          "text": [
            "5160/5160 [==============================] - 0s 17us/sample - loss: 0.3486\n"
          ],
          "name": "stdout"
        },
        {
          "output_type": "execute_result",
          "data": {
            "text/plain": [
              "0.3485915804325148"
            ]
          },
          "metadata": {
            "tags": []
          },
          "execution_count": 47
        }
      ]
    },
    {
      "cell_type": "markdown",
      "metadata": {
        "id": "oiURIA95CzwJ",
        "colab_type": "text"
      },
      "source": [
        "### Subclassing the model"
      ]
    },
    {
      "cell_type": "code",
      "metadata": {
        "id": "k7OCIDoaCnw9",
        "colab_type": "code",
        "colab": {}
      },
      "source": [
        "class MyModel(tf.keras.models.Model):\n",
        "    def __init__(self, **kwargs):\n",
        "        super(MyModel, self).__init__(**kwargs)\n",
        "        self.hidden1 = tf.keras.layers.Dense(30, activation='relu')\n",
        "        self.hidden2 = tf.keras.layers.Dense(30, activation='relu')\n",
        "        self.concat = tf.keras.layers.Concatenate(axis=1)\n",
        "        self.outputs = tf.keras.layers.Dense(1)\n",
        "        \n",
        "    def call(self, input):\n",
        "        x = self.hidden1(input)\n",
        "        x = self.hidden2(x)\n",
        "        x = self.concat(axis=1)([input, x])\n",
        "        return self.outputs(x)\n",
        "        "
      ],
      "execution_count": 0,
      "outputs": []
    },
    {
      "cell_type": "code",
      "metadata": {
        "id": "EVm5-wT6GlM_",
        "colab_type": "code",
        "colab": {
          "base_uri": "https://localhost:8080/",
          "height": 354
        },
        "outputId": "b4eebc85-9630-4c4a-af68-31aa6337a662"
      },
      "source": [
        "model1 = MyModel()\n",
        "model.summary()"
      ],
      "execution_count": 61,
      "outputs": [
        {
          "output_type": "stream",
          "text": [
            "Model: \"model\"\n",
            "__________________________________________________________________________________________________\n",
            "Layer (type)                    Output Shape         Param #     Connected to                     \n",
            "==================================================================================================\n",
            "input_11 (InputLayer)           [(None, 8)]          0                                            \n",
            "__________________________________________________________________________________________________\n",
            "dense_27 (Dense)                (None, 30)           270         input_11[0][0]                   \n",
            "__________________________________________________________________________________________________\n",
            "dense_28 (Dense)                (None, 30)           930         dense_27[0][0]                   \n",
            "__________________________________________________________________________________________________\n",
            "concatenate_8 (Concatenate)     (None, 38)           0           input_11[0][0]                   \n",
            "                                                                 dense_28[0][0]                   \n",
            "__________________________________________________________________________________________________\n",
            "dense_29 (Dense)                (None, 1)            39          concatenate_8[0][0]              \n",
            "==================================================================================================\n",
            "Total params: 1,239\n",
            "Trainable params: 1,239\n",
            "Non-trainable params: 0\n",
            "__________________________________________________________________________________________________\n"
          ],
          "name": "stdout"
        }
      ]
    },
    {
      "cell_type": "code",
      "metadata": {
        "id": "DvByuuN4GpMx",
        "colab_type": "code",
        "colab": {}
      },
      "source": [
        "model1.compile(optimizer=tf.keras.optimizers.Adam(0.1), loss='mean_squared_error')"
      ],
      "execution_count": 0,
      "outputs": []
    },
    {
      "cell_type": "code",
      "metadata": {
        "id": "D1hLGu7RHKxF",
        "colab_type": "code",
        "colab": {
          "base_uri": "https://localhost:8080/",
          "height": 745
        },
        "outputId": "a55ce116-7ee4-493f-c09a-379228223582"
      },
      "source": [
        "history = model.fit(X_train, Y_train, epochs=20, validation_data=(X_val, Y_val))"
      ],
      "execution_count": 63,
      "outputs": [
        {
          "output_type": "stream",
          "text": [
            "Train on 11610 samples, validate on 3870 samples\n",
            "Epoch 1/20\n",
            "11610/11610 [==============================] - 0s 40us/sample - loss: 0.3187 - val_loss: 25576.2378\n",
            "Epoch 2/20\n",
            "11610/11610 [==============================] - 0s 41us/sample - loss: 0.3199 - val_loss: 26074.3055\n",
            "Epoch 3/20\n",
            "11610/11610 [==============================] - 0s 39us/sample - loss: 0.3201 - val_loss: 21024.3528\n",
            "Epoch 4/20\n",
            "11610/11610 [==============================] - 0s 39us/sample - loss: 0.3224 - val_loss: 29150.7188\n",
            "Epoch 5/20\n",
            "11610/11610 [==============================] - 0s 34us/sample - loss: 0.3291 - val_loss: 25342.2093\n",
            "Epoch 6/20\n",
            "11610/11610 [==============================] - 0s 34us/sample - loss: 0.3332 - val_loss: 54501.0323\n",
            "Epoch 7/20\n",
            "11610/11610 [==============================] - 0s 33us/sample - loss: 0.3453 - val_loss: 28549.4237\n",
            "Epoch 8/20\n",
            "11610/11610 [==============================] - 0s 33us/sample - loss: 0.3582 - val_loss: 38861.3811\n",
            "Epoch 9/20\n",
            "11610/11610 [==============================] - 0s 34us/sample - loss: 0.3270 - val_loss: 26551.5539\n",
            "Epoch 10/20\n",
            "11610/11610 [==============================] - 0s 33us/sample - loss: 0.3202 - val_loss: 36392.9131\n",
            "Epoch 11/20\n",
            "11610/11610 [==============================] - 0s 33us/sample - loss: 0.3169 - val_loss: 29140.2039\n",
            "Epoch 12/20\n",
            "11610/11610 [==============================] - 0s 34us/sample - loss: 0.3156 - val_loss: 26544.2163\n",
            "Epoch 13/20\n",
            "11610/11610 [==============================] - 0s 33us/sample - loss: 0.3147 - val_loss: 28363.0380\n",
            "Epoch 14/20\n",
            "11610/11610 [==============================] - 0s 34us/sample - loss: 0.3150 - val_loss: 30569.4327\n",
            "Epoch 15/20\n",
            "11610/11610 [==============================] - 0s 33us/sample - loss: 0.3151 - val_loss: 29112.7722\n",
            "Epoch 16/20\n",
            "11610/11610 [==============================] - 0s 33us/sample - loss: 0.3142 - val_loss: 28959.1148\n",
            "Epoch 17/20\n",
            "11610/11610 [==============================] - 0s 34us/sample - loss: 0.3140 - val_loss: 30331.2557\n",
            "Epoch 18/20\n",
            "11610/11610 [==============================] - 0s 33us/sample - loss: 0.3138 - val_loss: 33436.6951\n",
            "Epoch 19/20\n",
            "11610/11610 [==============================] - 0s 33us/sample - loss: 0.3134 - val_loss: 33817.0592\n",
            "Epoch 20/20\n",
            "11610/11610 [==============================] - 0s 33us/sample - loss: 0.3128 - val_loss: 29967.8282\n"
          ],
          "name": "stdout"
        }
      ]
    },
    {
      "cell_type": "code",
      "metadata": {
        "id": "0nPKigv-HfHH",
        "colab_type": "code",
        "colab": {
          "base_uri": "https://localhost:8080/",
          "height": 52
        },
        "outputId": "58893edd-bdc5-4893-b9eb-75416889629c"
      },
      "source": [
        "model.evaluate(X_test, Y_test)"
      ],
      "execution_count": 64,
      "outputs": [
        {
          "output_type": "stream",
          "text": [
            "5160/5160 [==============================] - 0s 17us/sample - loss: 0.3325\n"
          ],
          "name": "stdout"
        },
        {
          "output_type": "execute_result",
          "data": {
            "text/plain": [
              "0.33247904897660246"
            ]
          },
          "metadata": {
            "tags": []
          },
          "execution_count": 64
        }
      ]
    },
    {
      "cell_type": "code",
      "metadata": {
        "id": "_2w9egO9TOyJ",
        "colab_type": "code",
        "colab": {
          "base_uri": "https://localhost:8080/",
          "height": 323
        },
        "outputId": "15d272e2-599b-49c6-c38b-f87bca4a2371"
      },
      "source": [
        "import pandas as pd\n",
        "import matplotlib.pyplot as plt\n",
        "\n",
        "pd.DataFrame(history.history).plot(figsize=(8, 5))\n",
        "plt.grid(True)\n",
        "plt.gca().set_ylim(0, 1)\n",
        "plt.show()"
      ],
      "execution_count": 65,
      "outputs": [
        {
          "output_type": "display_data",
          "data": {
            "image/png": "[encoded data removed]",
            "text/plain": [
              "<Figure size 576x360 with 1 Axes>"
            ]
          },
          "metadata": {
            "tags": []
          }
        }
      ]
    },
    {
      "cell_type": "code",
      "metadata": {
        "id": "CwXT7015XGMx",
        "colab_type": "code",
        "colab": {}
      },
      "source": [
        ""
      ],
      "execution_count": 0,
      "outputs": []
    }
  ]
}